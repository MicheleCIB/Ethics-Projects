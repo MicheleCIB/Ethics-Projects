{
 "cells": [
  {
   "cell_type": "markdown",
   "metadata": {
    "id": "GBGg9Ft-siNz",
    "pycharm": {
     "name": "#%% md\n"
    }
   },
   "source": [
    "# Libraries with fixed versions and data loading"
   ]
  },
  {
   "cell_type": "code",
   "execution_count": 2,
   "metadata": {
    "id": "RchLw9Za4TlX",
    "pycharm": {
     "name": "#%%\n"
    }
   },
   "outputs": [
    {
     "name": "stdout",
     "output_type": "stream",
     "text": [
      "Requirement already satisfied: shap==0.41.0 in c:\\users\\utente\\anaconda3\\lib\\site-packages (0.41.0)\n",
      "Requirement already satisfied: pandas in c:\\users\\utente\\anaconda3\\lib\\site-packages (from shap==0.41.0) (1.4.2)\n",
      "Requirement already satisfied: numpy in c:\\users\\utente\\appdata\\roaming\\python\\python38\\site-packages (from shap==0.41.0) (1.22.3)\n",
      "Requirement already satisfied: packaging>20.9 in c:\\users\\utente\\appdata\\roaming\\python\\python38\\site-packages (from shap==0.41.0) (21.3)\n",
      "Requirement already satisfied: slicer==0.0.7 in c:\\users\\utente\\anaconda3\\lib\\site-packages (from shap==0.41.0) (0.0.7)\n",
      "Requirement already satisfied: cloudpickle in c:\\users\\utente\\anaconda3\\lib\\site-packages (from shap==0.41.0) (2.0.0)\n",
      "Requirement already satisfied: tqdm>4.25.0 in c:\\users\\utente\\anaconda3\\lib\\site-packages (from shap==0.41.0) (4.64.0)\n",
      "Requirement already satisfied: scipy in c:\\users\\utente\\anaconda3\\lib\\site-packages (from shap==0.41.0) (1.8.0)\n",
      "Requirement already satisfied: scikit-learn in c:\\users\\utente\\anaconda3\\lib\\site-packages (from shap==0.41.0) (0.24.1)\n",
      "Requirement already satisfied: numba in c:\\users\\utente\\anaconda3\\lib\\site-packages (from shap==0.41.0) (0.53.1)\n",
      "Requirement already satisfied: pyparsing!=3.0.5,>=2.0.2 in c:\\users\\utente\\appdata\\roaming\\python\\python38\\site-packages (from packaging>20.9->shap==0.41.0) (3.0.8)\n",
      "Requirement already satisfied: colorama in c:\\users\\utente\\anaconda3\\lib\\site-packages (from tqdm>4.25.0->shap==0.41.0) (0.4.4)\n",
      "Requirement already satisfied: llvmlite<0.37,>=0.36.0rc1 in c:\\users\\utente\\anaconda3\\lib\\site-packages (from numba->shap==0.41.0) (0.36.0)\n",
      "Requirement already satisfied: setuptools in c:\\users\\utente\\anaconda3\\lib\\site-packages (from numba->shap==0.41.0) (61.2.0)\n",
      "Requirement already satisfied: pytz>=2020.1 in c:\\users\\utente\\anaconda3\\lib\\site-packages (from pandas->shap==0.41.0) (2021.3)\n",
      "Requirement already satisfied: python-dateutil>=2.8.1 in c:\\users\\utente\\appdata\\roaming\\python\\python38\\site-packages (from pandas->shap==0.41.0) (2.8.2)\n",
      "Requirement already satisfied: six>=1.5 in c:\\users\\utente\\appdata\\roaming\\python\\python38\\site-packages (from python-dateutil>=2.8.1->pandas->shap==0.41.0) (1.16.0)\n",
      "Requirement already satisfied: joblib>=0.11 in c:\\users\\utente\\anaconda3\\lib\\site-packages (from scikit-learn->shap==0.41.0) (1.0.1)\n",
      "Requirement already satisfied: threadpoolctl>=2.0.0 in c:\\users\\utente\\anaconda3\\lib\\site-packages (from scikit-learn->shap==0.41.0) (2.1.0)\n"
     ]
    },
    {
     "name": "stderr",
     "output_type": "stream",
     "text": [
      "WARNING: Ignoring invalid distribution -tatsmodels (c:\\users\\utente\\anaconda3\\lib\\site-packages)\n",
      "WARNING: Ignoring invalid distribution -atplotlib (c:\\users\\utente\\anaconda3\\lib\\site-packages)\n",
      "WARNING: Ignoring invalid distribution -tatsmodels (c:\\users\\utente\\anaconda3\\lib\\site-packages)\n",
      "WARNING: Ignoring invalid distribution -atplotlib (c:\\users\\utente\\anaconda3\\lib\\site-packages)\n",
      "WARNING: Ignoring invalid distribution -tatsmodels (c:\\users\\utente\\anaconda3\\lib\\site-packages)\n",
      "WARNING: Ignoring invalid distribution -atplotlib (c:\\users\\utente\\anaconda3\\lib\\site-packages)\n",
      "WARNING: Ignoring invalid distribution -tatsmodels (c:\\users\\utente\\anaconda3\\lib\\site-packages)\n",
      "WARNING: Ignoring invalid distribution -atplotlib (c:\\users\\utente\\anaconda3\\lib\\site-packages)\n",
      "WARNING: Ignoring invalid distribution -tatsmodels (c:\\users\\utente\\anaconda3\\lib\\site-packages)\n",
      "WARNING: Ignoring invalid distribution -atplotlib (c:\\users\\utente\\anaconda3\\lib\\site-packages)\n",
      "WARNING: Ignoring invalid distribution -tatsmodels (c:\\users\\utente\\anaconda3\\lib\\site-packages)\n",
      "WARNING: Ignoring invalid distribution -atplotlib (c:\\users\\utente\\anaconda3\\lib\\site-packages)\n",
      "WARNING: You are using pip version 22.0.4; however, version 22.3.1 is available.\n",
      "You should consider upgrading via the 'C:\\Users\\Utente\\anaconda3\\python.exe -m pip install --upgrade pip' command.\n"
     ]
    }
   ],
   "source": [
    "import xgboost as xgb\n",
    "import pandas as pd\n",
    "import numpy as np\n",
    "!pip install shap==0.41.0\n",
    "import shap\n",
    "import plotly.express as px\n",
    "\n",
    "from sklearn.model_selection import train_test_split\n",
    "from sklearn import metrics"
   ]
  },
  {
   "cell_type": "code",
   "execution_count": 3,
   "metadata": {
    "id": "KMOa7m1mx4Zm",
    "pycharm": {
     "name": "#%%\n"
    }
   },
   "outputs": [],
   "source": [
    "# # Enable export of plotly interactivity in html export\n",
    "# from plotly.offline import iplot, init_notebook_mode\n",
    "# init_notebook_mode(connected = True)"
   ]
  },
  {
   "cell_type": "markdown",
   "metadata": {
    "id": "eRjjppBxjjgV",
    "pycharm": {
     "name": "#%% md\n"
    }
   },
   "source": [
    "To load the data, you can simply put it on Google Drive and read it in a few lines of code (there are multiple other ways to do it).\n",
    "\n",
    "For speed, we can load only the provided 26 columns (1 target, 1 ID and 24 features)."
   ]
  },
  {
   "cell_type": "markdown",
   "metadata": {
    "id": "bp_6pwsUswlK",
    "pycharm": {
     "name": "#%% md\n"
    }
   },
   "source": [
    "# **[#1] Interesting variables**"
   ]
  },
  {
   "cell_type": "code",
   "execution_count": 4,
   "metadata": {
    "pycharm": {
     "name": "#%%\n"
    }
   },
   "outputs": [
    {
     "name": "stdout",
     "output_type": "stream",
     "text": [
      "Application train dataset shape: (307511, 26)\n"
     ]
    }
   ],
   "source": [
    "ap_train = pd.read_csv(\"C:/Users/Utente/Desktop/application_train.csv\",\n",
    "                    usecols =  ['TARGET', 'SK_ID_CURR', 'NAME_CONTRACT_TYPE', 'CODE_GENDER', 'FLAG_OWN_CAR',\n",
    "                                'FLAG_OWN_REALTY', 'CNT_CHILDREN', 'AMT_INCOME_TOTAL', 'AMT_CREDIT', 'AMT_ANNUITY',\n",
    "                                'AMT_GOODS_PRICE', 'NAME_TYPE_SUITE', 'NAME_INCOME_TYPE', 'NAME_EDUCATION_TYPE', 'OCCUPATION_TYPE',\n",
    "                                'NAME_FAMILY_STATUS', 'NAME_HOUSING_TYPE', 'REGION_POPULATION_RELATIVE', 'DAYS_BIRTH',\n",
    "                                'DAYS_EMPLOYED', 'DAYS_REGISTRATION', 'DAYS_ID_PUBLISH', 'OWN_CAR_AGE', 'EXT_SOURCE_1',\n",
    "                                'EXT_SOURCE_2', 'EXT_SOURCE_3'])\n",
    "print(f\"Application train dataset shape: {ap_train.shape}\")"
   ]
  },
  {
   "cell_type": "code",
   "execution_count": 5,
   "metadata": {
    "pycharm": {
     "name": "#%%\n"
    }
   },
   "outputs": [
    {
     "data": {
      "text/html": [
       "<div>\n",
       "<style scoped>\n",
       "    .dataframe tbody tr th:only-of-type {\n",
       "        vertical-align: middle;\n",
       "    }\n",
       "\n",
       "    .dataframe tbody tr th {\n",
       "        vertical-align: top;\n",
       "    }\n",
       "\n",
       "    .dataframe thead th {\n",
       "        text-align: right;\n",
       "    }\n",
       "</style>\n",
       "<table border=\"1\" class=\"dataframe\">\n",
       "  <thead>\n",
       "    <tr style=\"text-align: right;\">\n",
       "      <th></th>\n",
       "      <th>SK_ID_CURR</th>\n",
       "      <th>TARGET</th>\n",
       "      <th>NAME_CONTRACT_TYPE</th>\n",
       "      <th>CODE_GENDER</th>\n",
       "      <th>FLAG_OWN_CAR</th>\n",
       "      <th>FLAG_OWN_REALTY</th>\n",
       "      <th>CNT_CHILDREN</th>\n",
       "      <th>AMT_INCOME_TOTAL</th>\n",
       "      <th>AMT_CREDIT</th>\n",
       "      <th>AMT_ANNUITY</th>\n",
       "      <th>...</th>\n",
       "      <th>REGION_POPULATION_RELATIVE</th>\n",
       "      <th>DAYS_BIRTH</th>\n",
       "      <th>DAYS_EMPLOYED</th>\n",
       "      <th>DAYS_REGISTRATION</th>\n",
       "      <th>DAYS_ID_PUBLISH</th>\n",
       "      <th>OWN_CAR_AGE</th>\n",
       "      <th>OCCUPATION_TYPE</th>\n",
       "      <th>EXT_SOURCE_1</th>\n",
       "      <th>EXT_SOURCE_2</th>\n",
       "      <th>EXT_SOURCE_3</th>\n",
       "    </tr>\n",
       "  </thead>\n",
       "  <tbody>\n",
       "    <tr>\n",
       "      <th>0</th>\n",
       "      <td>100002</td>\n",
       "      <td>1</td>\n",
       "      <td>Cash loans</td>\n",
       "      <td>M</td>\n",
       "      <td>N</td>\n",
       "      <td>Y</td>\n",
       "      <td>0</td>\n",
       "      <td>202500.0</td>\n",
       "      <td>406597.5</td>\n",
       "      <td>24700.5</td>\n",
       "      <td>...</td>\n",
       "      <td>0.018801</td>\n",
       "      <td>-9461</td>\n",
       "      <td>-637</td>\n",
       "      <td>-3648.0</td>\n",
       "      <td>-2120</td>\n",
       "      <td>NaN</td>\n",
       "      <td>Laborers</td>\n",
       "      <td>0.083037</td>\n",
       "      <td>0.262949</td>\n",
       "      <td>0.139376</td>\n",
       "    </tr>\n",
       "    <tr>\n",
       "      <th>1</th>\n",
       "      <td>100003</td>\n",
       "      <td>0</td>\n",
       "      <td>Cash loans</td>\n",
       "      <td>F</td>\n",
       "      <td>N</td>\n",
       "      <td>N</td>\n",
       "      <td>0</td>\n",
       "      <td>270000.0</td>\n",
       "      <td>1293502.5</td>\n",
       "      <td>35698.5</td>\n",
       "      <td>...</td>\n",
       "      <td>0.003541</td>\n",
       "      <td>-16765</td>\n",
       "      <td>-1188</td>\n",
       "      <td>-1186.0</td>\n",
       "      <td>-291</td>\n",
       "      <td>NaN</td>\n",
       "      <td>Core staff</td>\n",
       "      <td>0.311267</td>\n",
       "      <td>0.622246</td>\n",
       "      <td>NaN</td>\n",
       "    </tr>\n",
       "    <tr>\n",
       "      <th>2</th>\n",
       "      <td>100004</td>\n",
       "      <td>0</td>\n",
       "      <td>Revolving loans</td>\n",
       "      <td>M</td>\n",
       "      <td>Y</td>\n",
       "      <td>Y</td>\n",
       "      <td>0</td>\n",
       "      <td>67500.0</td>\n",
       "      <td>135000.0</td>\n",
       "      <td>6750.0</td>\n",
       "      <td>...</td>\n",
       "      <td>0.010032</td>\n",
       "      <td>-19046</td>\n",
       "      <td>-225</td>\n",
       "      <td>-4260.0</td>\n",
       "      <td>-2531</td>\n",
       "      <td>26.0</td>\n",
       "      <td>Laborers</td>\n",
       "      <td>NaN</td>\n",
       "      <td>0.555912</td>\n",
       "      <td>0.729567</td>\n",
       "    </tr>\n",
       "    <tr>\n",
       "      <th>3</th>\n",
       "      <td>100006</td>\n",
       "      <td>0</td>\n",
       "      <td>Cash loans</td>\n",
       "      <td>F</td>\n",
       "      <td>N</td>\n",
       "      <td>Y</td>\n",
       "      <td>0</td>\n",
       "      <td>135000.0</td>\n",
       "      <td>312682.5</td>\n",
       "      <td>29686.5</td>\n",
       "      <td>...</td>\n",
       "      <td>0.008019</td>\n",
       "      <td>-19005</td>\n",
       "      <td>-3039</td>\n",
       "      <td>-9833.0</td>\n",
       "      <td>-2437</td>\n",
       "      <td>NaN</td>\n",
       "      <td>Laborers</td>\n",
       "      <td>NaN</td>\n",
       "      <td>0.650442</td>\n",
       "      <td>NaN</td>\n",
       "    </tr>\n",
       "    <tr>\n",
       "      <th>4</th>\n",
       "      <td>100007</td>\n",
       "      <td>0</td>\n",
       "      <td>Cash loans</td>\n",
       "      <td>M</td>\n",
       "      <td>N</td>\n",
       "      <td>Y</td>\n",
       "      <td>0</td>\n",
       "      <td>121500.0</td>\n",
       "      <td>513000.0</td>\n",
       "      <td>21865.5</td>\n",
       "      <td>...</td>\n",
       "      <td>0.028663</td>\n",
       "      <td>-19932</td>\n",
       "      <td>-3038</td>\n",
       "      <td>-4311.0</td>\n",
       "      <td>-3458</td>\n",
       "      <td>NaN</td>\n",
       "      <td>Core staff</td>\n",
       "      <td>NaN</td>\n",
       "      <td>0.322738</td>\n",
       "      <td>NaN</td>\n",
       "    </tr>\n",
       "    <tr>\n",
       "      <th>...</th>\n",
       "      <td>...</td>\n",
       "      <td>...</td>\n",
       "      <td>...</td>\n",
       "      <td>...</td>\n",
       "      <td>...</td>\n",
       "      <td>...</td>\n",
       "      <td>...</td>\n",
       "      <td>...</td>\n",
       "      <td>...</td>\n",
       "      <td>...</td>\n",
       "      <td>...</td>\n",
       "      <td>...</td>\n",
       "      <td>...</td>\n",
       "      <td>...</td>\n",
       "      <td>...</td>\n",
       "      <td>...</td>\n",
       "      <td>...</td>\n",
       "      <td>...</td>\n",
       "      <td>...</td>\n",
       "      <td>...</td>\n",
       "      <td>...</td>\n",
       "    </tr>\n",
       "    <tr>\n",
       "      <th>307506</th>\n",
       "      <td>456251</td>\n",
       "      <td>0</td>\n",
       "      <td>Cash loans</td>\n",
       "      <td>M</td>\n",
       "      <td>N</td>\n",
       "      <td>N</td>\n",
       "      <td>0</td>\n",
       "      <td>157500.0</td>\n",
       "      <td>254700.0</td>\n",
       "      <td>27558.0</td>\n",
       "      <td>...</td>\n",
       "      <td>0.032561</td>\n",
       "      <td>-9327</td>\n",
       "      <td>-236</td>\n",
       "      <td>-8456.0</td>\n",
       "      <td>-1982</td>\n",
       "      <td>NaN</td>\n",
       "      <td>Sales staff</td>\n",
       "      <td>0.145570</td>\n",
       "      <td>0.681632</td>\n",
       "      <td>NaN</td>\n",
       "    </tr>\n",
       "    <tr>\n",
       "      <th>307507</th>\n",
       "      <td>456252</td>\n",
       "      <td>0</td>\n",
       "      <td>Cash loans</td>\n",
       "      <td>F</td>\n",
       "      <td>N</td>\n",
       "      <td>Y</td>\n",
       "      <td>0</td>\n",
       "      <td>72000.0</td>\n",
       "      <td>269550.0</td>\n",
       "      <td>12001.5</td>\n",
       "      <td>...</td>\n",
       "      <td>0.025164</td>\n",
       "      <td>-20775</td>\n",
       "      <td>365243</td>\n",
       "      <td>-4388.0</td>\n",
       "      <td>-4090</td>\n",
       "      <td>NaN</td>\n",
       "      <td>NaN</td>\n",
       "      <td>NaN</td>\n",
       "      <td>0.115992</td>\n",
       "      <td>NaN</td>\n",
       "    </tr>\n",
       "    <tr>\n",
       "      <th>307508</th>\n",
       "      <td>456253</td>\n",
       "      <td>0</td>\n",
       "      <td>Cash loans</td>\n",
       "      <td>F</td>\n",
       "      <td>N</td>\n",
       "      <td>Y</td>\n",
       "      <td>0</td>\n",
       "      <td>153000.0</td>\n",
       "      <td>677664.0</td>\n",
       "      <td>29979.0</td>\n",
       "      <td>...</td>\n",
       "      <td>0.005002</td>\n",
       "      <td>-14966</td>\n",
       "      <td>-7921</td>\n",
       "      <td>-6737.0</td>\n",
       "      <td>-5150</td>\n",
       "      <td>NaN</td>\n",
       "      <td>Managers</td>\n",
       "      <td>0.744026</td>\n",
       "      <td>0.535722</td>\n",
       "      <td>0.218859</td>\n",
       "    </tr>\n",
       "    <tr>\n",
       "      <th>307509</th>\n",
       "      <td>456254</td>\n",
       "      <td>1</td>\n",
       "      <td>Cash loans</td>\n",
       "      <td>F</td>\n",
       "      <td>N</td>\n",
       "      <td>Y</td>\n",
       "      <td>0</td>\n",
       "      <td>171000.0</td>\n",
       "      <td>370107.0</td>\n",
       "      <td>20205.0</td>\n",
       "      <td>...</td>\n",
       "      <td>0.005313</td>\n",
       "      <td>-11961</td>\n",
       "      <td>-4786</td>\n",
       "      <td>-2562.0</td>\n",
       "      <td>-931</td>\n",
       "      <td>NaN</td>\n",
       "      <td>Laborers</td>\n",
       "      <td>NaN</td>\n",
       "      <td>0.514163</td>\n",
       "      <td>0.661024</td>\n",
       "    </tr>\n",
       "    <tr>\n",
       "      <th>307510</th>\n",
       "      <td>456255</td>\n",
       "      <td>0</td>\n",
       "      <td>Cash loans</td>\n",
       "      <td>F</td>\n",
       "      <td>N</td>\n",
       "      <td>N</td>\n",
       "      <td>0</td>\n",
       "      <td>157500.0</td>\n",
       "      <td>675000.0</td>\n",
       "      <td>49117.5</td>\n",
       "      <td>...</td>\n",
       "      <td>0.046220</td>\n",
       "      <td>-16856</td>\n",
       "      <td>-1262</td>\n",
       "      <td>-5128.0</td>\n",
       "      <td>-410</td>\n",
       "      <td>NaN</td>\n",
       "      <td>Laborers</td>\n",
       "      <td>0.734460</td>\n",
       "      <td>0.708569</td>\n",
       "      <td>0.113922</td>\n",
       "    </tr>\n",
       "  </tbody>\n",
       "</table>\n",
       "<p>307511 rows × 26 columns</p>\n",
       "</div>"
      ],
      "text/plain": [
       "        SK_ID_CURR  TARGET NAME_CONTRACT_TYPE CODE_GENDER FLAG_OWN_CAR  \\\n",
       "0           100002       1         Cash loans           M            N   \n",
       "1           100003       0         Cash loans           F            N   \n",
       "2           100004       0    Revolving loans           M            Y   \n",
       "3           100006       0         Cash loans           F            N   \n",
       "4           100007       0         Cash loans           M            N   \n",
       "...            ...     ...                ...         ...          ...   \n",
       "307506      456251       0         Cash loans           M            N   \n",
       "307507      456252       0         Cash loans           F            N   \n",
       "307508      456253       0         Cash loans           F            N   \n",
       "307509      456254       1         Cash loans           F            N   \n",
       "307510      456255       0         Cash loans           F            N   \n",
       "\n",
       "       FLAG_OWN_REALTY  CNT_CHILDREN  AMT_INCOME_TOTAL  AMT_CREDIT  \\\n",
       "0                    Y             0          202500.0    406597.5   \n",
       "1                    N             0          270000.0   1293502.5   \n",
       "2                    Y             0           67500.0    135000.0   \n",
       "3                    Y             0          135000.0    312682.5   \n",
       "4                    Y             0          121500.0    513000.0   \n",
       "...                ...           ...               ...         ...   \n",
       "307506               N             0          157500.0    254700.0   \n",
       "307507               Y             0           72000.0    269550.0   \n",
       "307508               Y             0          153000.0    677664.0   \n",
       "307509               Y             0          171000.0    370107.0   \n",
       "307510               N             0          157500.0    675000.0   \n",
       "\n",
       "        AMT_ANNUITY  ...  REGION_POPULATION_RELATIVE DAYS_BIRTH DAYS_EMPLOYED  \\\n",
       "0           24700.5  ...                    0.018801      -9461          -637   \n",
       "1           35698.5  ...                    0.003541     -16765         -1188   \n",
       "2            6750.0  ...                    0.010032     -19046          -225   \n",
       "3           29686.5  ...                    0.008019     -19005         -3039   \n",
       "4           21865.5  ...                    0.028663     -19932         -3038   \n",
       "...             ...  ...                         ...        ...           ...   \n",
       "307506      27558.0  ...                    0.032561      -9327          -236   \n",
       "307507      12001.5  ...                    0.025164     -20775        365243   \n",
       "307508      29979.0  ...                    0.005002     -14966         -7921   \n",
       "307509      20205.0  ...                    0.005313     -11961         -4786   \n",
       "307510      49117.5  ...                    0.046220     -16856         -1262   \n",
       "\n",
       "       DAYS_REGISTRATION DAYS_ID_PUBLISH OWN_CAR_AGE  OCCUPATION_TYPE  \\\n",
       "0                -3648.0           -2120         NaN         Laborers   \n",
       "1                -1186.0            -291         NaN       Core staff   \n",
       "2                -4260.0           -2531        26.0         Laborers   \n",
       "3                -9833.0           -2437         NaN         Laborers   \n",
       "4                -4311.0           -3458         NaN       Core staff   \n",
       "...                  ...             ...         ...              ...   \n",
       "307506           -8456.0           -1982         NaN      Sales staff   \n",
       "307507           -4388.0           -4090         NaN              NaN   \n",
       "307508           -6737.0           -5150         NaN         Managers   \n",
       "307509           -2562.0            -931         NaN         Laborers   \n",
       "307510           -5128.0            -410         NaN         Laborers   \n",
       "\n",
       "        EXT_SOURCE_1  EXT_SOURCE_2  EXT_SOURCE_3  \n",
       "0           0.083037      0.262949      0.139376  \n",
       "1           0.311267      0.622246           NaN  \n",
       "2                NaN      0.555912      0.729567  \n",
       "3                NaN      0.650442           NaN  \n",
       "4                NaN      0.322738           NaN  \n",
       "...              ...           ...           ...  \n",
       "307506      0.145570      0.681632           NaN  \n",
       "307507           NaN      0.115992           NaN  \n",
       "307508      0.744026      0.535722      0.218859  \n",
       "307509           NaN      0.514163      0.661024  \n",
       "307510      0.734460      0.708569      0.113922  \n",
       "\n",
       "[307511 rows x 26 columns]"
      ]
     },
     "execution_count": 5,
     "metadata": {},
     "output_type": "execute_result"
    }
   ],
   "source": [
    "ap_train"
   ]
  },
  {
   "cell_type": "markdown",
   "metadata": {
    "pycharm": {
     "name": "#%% md\n"
    }
   },
   "source": [
    "For simplicity, we'll create a AGE (in years) variable from DAYS_BIRTH (in days)."
   ]
  },
  {
   "cell_type": "code",
   "execution_count": 6,
   "metadata": {
    "pycharm": {
     "name": "#%%\n"
    }
   },
   "outputs": [],
   "source": [
    "ap_train['DAYS_BIRTH'] = -round(ap_train['DAYS_BIRTH']/365)"
   ]
  },
  {
   "cell_type": "code",
   "execution_count": 8,
   "metadata": {
    "pycharm": {
     "name": "#%%\n"
    }
   },
   "outputs": [
    {
     "name": "stdout",
     "output_type": "stream",
     "text": [
      "Application train dataset shape: (307511, 16)\n"
     ]
    }
   ],
   "source": [
    "interesting_v = pd.read_csv('application_train.csv',\n",
    "                    usecols =  ['TARGET', 'SK_ID_CURR',\n",
    "                         'CNT_CHILDREN', 'AMT_INCOME_TOTAL', 'AMT_CREDIT', 'AMT_ANNUITY',\n",
    "                                'AMT_GOODS_PRICE', 'REGION_POPULATION_RELATIVE', 'DAYS_BIRTH',\n",
    "                                'DAYS_EMPLOYED', 'DAYS_REGISTRATION', 'DAYS_ID_PUBLISH', 'OWN_CAR_AGE', 'EXT_SOURCE_1',\n",
    "                                'EXT_SOURCE_2', 'EXT_SOURCE_3'])\n",
    "print(f\"Application train dataset shape: {interesting_v.shape}\")"
   ]
  },
  {
   "cell_type": "code",
   "execution_count": 9,
   "metadata": {},
   "outputs": [],
   "source": [
    "interesting_v ['DAYS_BIRTH'] = -round(interesting_v ['DAYS_BIRTH']/365)"
   ]
  },
  {
   "cell_type": "code",
   "execution_count": 10,
   "metadata": {},
   "outputs": [
    {
     "data": {
      "text/html": [
       "<div>\n",
       "<style scoped>\n",
       "    .dataframe tbody tr th:only-of-type {\n",
       "        vertical-align: middle;\n",
       "    }\n",
       "\n",
       "    .dataframe tbody tr th {\n",
       "        vertical-align: top;\n",
       "    }\n",
       "\n",
       "    .dataframe thead th {\n",
       "        text-align: right;\n",
       "    }\n",
       "</style>\n",
       "<table border=\"1\" class=\"dataframe\">\n",
       "  <thead>\n",
       "    <tr style=\"text-align: right;\">\n",
       "      <th></th>\n",
       "      <th>SK_ID_CURR</th>\n",
       "      <th>TARGET</th>\n",
       "      <th>CNT_CHILDREN</th>\n",
       "      <th>AMT_INCOME_TOTAL</th>\n",
       "      <th>AMT_CREDIT</th>\n",
       "      <th>AMT_ANNUITY</th>\n",
       "      <th>AMT_GOODS_PRICE</th>\n",
       "      <th>REGION_POPULATION_RELATIVE</th>\n",
       "      <th>DAYS_BIRTH</th>\n",
       "      <th>DAYS_EMPLOYED</th>\n",
       "      <th>DAYS_REGISTRATION</th>\n",
       "      <th>DAYS_ID_PUBLISH</th>\n",
       "      <th>OWN_CAR_AGE</th>\n",
       "      <th>EXT_SOURCE_1</th>\n",
       "      <th>EXT_SOURCE_2</th>\n",
       "      <th>EXT_SOURCE_3</th>\n",
       "    </tr>\n",
       "  </thead>\n",
       "  <tbody>\n",
       "    <tr>\n",
       "      <th>0</th>\n",
       "      <td>100002</td>\n",
       "      <td>1</td>\n",
       "      <td>0</td>\n",
       "      <td>202500.0</td>\n",
       "      <td>406597.5</td>\n",
       "      <td>24700.5</td>\n",
       "      <td>351000.0</td>\n",
       "      <td>0.018801</td>\n",
       "      <td>26.0</td>\n",
       "      <td>-637</td>\n",
       "      <td>-3648.0</td>\n",
       "      <td>-2120</td>\n",
       "      <td>NaN</td>\n",
       "      <td>0.083037</td>\n",
       "      <td>0.262949</td>\n",
       "      <td>0.139376</td>\n",
       "    </tr>\n",
       "    <tr>\n",
       "      <th>1</th>\n",
       "      <td>100003</td>\n",
       "      <td>0</td>\n",
       "      <td>0</td>\n",
       "      <td>270000.0</td>\n",
       "      <td>1293502.5</td>\n",
       "      <td>35698.5</td>\n",
       "      <td>1129500.0</td>\n",
       "      <td>0.003541</td>\n",
       "      <td>46.0</td>\n",
       "      <td>-1188</td>\n",
       "      <td>-1186.0</td>\n",
       "      <td>-291</td>\n",
       "      <td>NaN</td>\n",
       "      <td>0.311267</td>\n",
       "      <td>0.622246</td>\n",
       "      <td>NaN</td>\n",
       "    </tr>\n",
       "    <tr>\n",
       "      <th>2</th>\n",
       "      <td>100004</td>\n",
       "      <td>0</td>\n",
       "      <td>0</td>\n",
       "      <td>67500.0</td>\n",
       "      <td>135000.0</td>\n",
       "      <td>6750.0</td>\n",
       "      <td>135000.0</td>\n",
       "      <td>0.010032</td>\n",
       "      <td>52.0</td>\n",
       "      <td>-225</td>\n",
       "      <td>-4260.0</td>\n",
       "      <td>-2531</td>\n",
       "      <td>26.0</td>\n",
       "      <td>NaN</td>\n",
       "      <td>0.555912</td>\n",
       "      <td>0.729567</td>\n",
       "    </tr>\n",
       "    <tr>\n",
       "      <th>3</th>\n",
       "      <td>100006</td>\n",
       "      <td>0</td>\n",
       "      <td>0</td>\n",
       "      <td>135000.0</td>\n",
       "      <td>312682.5</td>\n",
       "      <td>29686.5</td>\n",
       "      <td>297000.0</td>\n",
       "      <td>0.008019</td>\n",
       "      <td>52.0</td>\n",
       "      <td>-3039</td>\n",
       "      <td>-9833.0</td>\n",
       "      <td>-2437</td>\n",
       "      <td>NaN</td>\n",
       "      <td>NaN</td>\n",
       "      <td>0.650442</td>\n",
       "      <td>NaN</td>\n",
       "    </tr>\n",
       "    <tr>\n",
       "      <th>4</th>\n",
       "      <td>100007</td>\n",
       "      <td>0</td>\n",
       "      <td>0</td>\n",
       "      <td>121500.0</td>\n",
       "      <td>513000.0</td>\n",
       "      <td>21865.5</td>\n",
       "      <td>513000.0</td>\n",
       "      <td>0.028663</td>\n",
       "      <td>55.0</td>\n",
       "      <td>-3038</td>\n",
       "      <td>-4311.0</td>\n",
       "      <td>-3458</td>\n",
       "      <td>NaN</td>\n",
       "      <td>NaN</td>\n",
       "      <td>0.322738</td>\n",
       "      <td>NaN</td>\n",
       "    </tr>\n",
       "    <tr>\n",
       "      <th>...</th>\n",
       "      <td>...</td>\n",
       "      <td>...</td>\n",
       "      <td>...</td>\n",
       "      <td>...</td>\n",
       "      <td>...</td>\n",
       "      <td>...</td>\n",
       "      <td>...</td>\n",
       "      <td>...</td>\n",
       "      <td>...</td>\n",
       "      <td>...</td>\n",
       "      <td>...</td>\n",
       "      <td>...</td>\n",
       "      <td>...</td>\n",
       "      <td>...</td>\n",
       "      <td>...</td>\n",
       "      <td>...</td>\n",
       "    </tr>\n",
       "    <tr>\n",
       "      <th>307506</th>\n",
       "      <td>456251</td>\n",
       "      <td>0</td>\n",
       "      <td>0</td>\n",
       "      <td>157500.0</td>\n",
       "      <td>254700.0</td>\n",
       "      <td>27558.0</td>\n",
       "      <td>225000.0</td>\n",
       "      <td>0.032561</td>\n",
       "      <td>26.0</td>\n",
       "      <td>-236</td>\n",
       "      <td>-8456.0</td>\n",
       "      <td>-1982</td>\n",
       "      <td>NaN</td>\n",
       "      <td>0.145570</td>\n",
       "      <td>0.681632</td>\n",
       "      <td>NaN</td>\n",
       "    </tr>\n",
       "    <tr>\n",
       "      <th>307507</th>\n",
       "      <td>456252</td>\n",
       "      <td>0</td>\n",
       "      <td>0</td>\n",
       "      <td>72000.0</td>\n",
       "      <td>269550.0</td>\n",
       "      <td>12001.5</td>\n",
       "      <td>225000.0</td>\n",
       "      <td>0.025164</td>\n",
       "      <td>57.0</td>\n",
       "      <td>365243</td>\n",
       "      <td>-4388.0</td>\n",
       "      <td>-4090</td>\n",
       "      <td>NaN</td>\n",
       "      <td>NaN</td>\n",
       "      <td>0.115992</td>\n",
       "      <td>NaN</td>\n",
       "    </tr>\n",
       "    <tr>\n",
       "      <th>307508</th>\n",
       "      <td>456253</td>\n",
       "      <td>0</td>\n",
       "      <td>0</td>\n",
       "      <td>153000.0</td>\n",
       "      <td>677664.0</td>\n",
       "      <td>29979.0</td>\n",
       "      <td>585000.0</td>\n",
       "      <td>0.005002</td>\n",
       "      <td>41.0</td>\n",
       "      <td>-7921</td>\n",
       "      <td>-6737.0</td>\n",
       "      <td>-5150</td>\n",
       "      <td>NaN</td>\n",
       "      <td>0.744026</td>\n",
       "      <td>0.535722</td>\n",
       "      <td>0.218859</td>\n",
       "    </tr>\n",
       "    <tr>\n",
       "      <th>307509</th>\n",
       "      <td>456254</td>\n",
       "      <td>1</td>\n",
       "      <td>0</td>\n",
       "      <td>171000.0</td>\n",
       "      <td>370107.0</td>\n",
       "      <td>20205.0</td>\n",
       "      <td>319500.0</td>\n",
       "      <td>0.005313</td>\n",
       "      <td>33.0</td>\n",
       "      <td>-4786</td>\n",
       "      <td>-2562.0</td>\n",
       "      <td>-931</td>\n",
       "      <td>NaN</td>\n",
       "      <td>NaN</td>\n",
       "      <td>0.514163</td>\n",
       "      <td>0.661024</td>\n",
       "    </tr>\n",
       "    <tr>\n",
       "      <th>307510</th>\n",
       "      <td>456255</td>\n",
       "      <td>0</td>\n",
       "      <td>0</td>\n",
       "      <td>157500.0</td>\n",
       "      <td>675000.0</td>\n",
       "      <td>49117.5</td>\n",
       "      <td>675000.0</td>\n",
       "      <td>0.046220</td>\n",
       "      <td>46.0</td>\n",
       "      <td>-1262</td>\n",
       "      <td>-5128.0</td>\n",
       "      <td>-410</td>\n",
       "      <td>NaN</td>\n",
       "      <td>0.734460</td>\n",
       "      <td>0.708569</td>\n",
       "      <td>0.113922</td>\n",
       "    </tr>\n",
       "  </tbody>\n",
       "</table>\n",
       "<p>307511 rows × 16 columns</p>\n",
       "</div>"
      ],
      "text/plain": [
       "        SK_ID_CURR  TARGET  CNT_CHILDREN  AMT_INCOME_TOTAL  AMT_CREDIT  \\\n",
       "0           100002       1             0          202500.0    406597.5   \n",
       "1           100003       0             0          270000.0   1293502.5   \n",
       "2           100004       0             0           67500.0    135000.0   \n",
       "3           100006       0             0          135000.0    312682.5   \n",
       "4           100007       0             0          121500.0    513000.0   \n",
       "...            ...     ...           ...               ...         ...   \n",
       "307506      456251       0             0          157500.0    254700.0   \n",
       "307507      456252       0             0           72000.0    269550.0   \n",
       "307508      456253       0             0          153000.0    677664.0   \n",
       "307509      456254       1             0          171000.0    370107.0   \n",
       "307510      456255       0             0          157500.0    675000.0   \n",
       "\n",
       "        AMT_ANNUITY  AMT_GOODS_PRICE  REGION_POPULATION_RELATIVE  DAYS_BIRTH  \\\n",
       "0           24700.5         351000.0                    0.018801        26.0   \n",
       "1           35698.5        1129500.0                    0.003541        46.0   \n",
       "2            6750.0         135000.0                    0.010032        52.0   \n",
       "3           29686.5         297000.0                    0.008019        52.0   \n",
       "4           21865.5         513000.0                    0.028663        55.0   \n",
       "...             ...              ...                         ...         ...   \n",
       "307506      27558.0         225000.0                    0.032561        26.0   \n",
       "307507      12001.5         225000.0                    0.025164        57.0   \n",
       "307508      29979.0         585000.0                    0.005002        41.0   \n",
       "307509      20205.0         319500.0                    0.005313        33.0   \n",
       "307510      49117.5         675000.0                    0.046220        46.0   \n",
       "\n",
       "        DAYS_EMPLOYED  DAYS_REGISTRATION  DAYS_ID_PUBLISH  OWN_CAR_AGE  \\\n",
       "0                -637            -3648.0            -2120          NaN   \n",
       "1               -1188            -1186.0             -291          NaN   \n",
       "2                -225            -4260.0            -2531         26.0   \n",
       "3               -3039            -9833.0            -2437          NaN   \n",
       "4               -3038            -4311.0            -3458          NaN   \n",
       "...               ...                ...              ...          ...   \n",
       "307506           -236            -8456.0            -1982          NaN   \n",
       "307507         365243            -4388.0            -4090          NaN   \n",
       "307508          -7921            -6737.0            -5150          NaN   \n",
       "307509          -4786            -2562.0             -931          NaN   \n",
       "307510          -1262            -5128.0             -410          NaN   \n",
       "\n",
       "        EXT_SOURCE_1  EXT_SOURCE_2  EXT_SOURCE_3  \n",
       "0           0.083037      0.262949      0.139376  \n",
       "1           0.311267      0.622246           NaN  \n",
       "2                NaN      0.555912      0.729567  \n",
       "3                NaN      0.650442           NaN  \n",
       "4                NaN      0.322738           NaN  \n",
       "...              ...           ...           ...  \n",
       "307506      0.145570      0.681632           NaN  \n",
       "307507           NaN      0.115992           NaN  \n",
       "307508      0.744026      0.535722      0.218859  \n",
       "307509           NaN      0.514163      0.661024  \n",
       "307510      0.734460      0.708569      0.113922  \n",
       "\n",
       "[307511 rows x 16 columns]"
      ]
     },
     "execution_count": 10,
     "metadata": {},
     "output_type": "execute_result"
    }
   ],
   "source": [
    "interesting_v "
   ]
  },
  {
   "cell_type": "markdown",
   "metadata": {
    "id": "e2ITVOl9tAby",
    "pycharm": {
     "name": "#%% md\n"
    }
   },
   "source": [
    "# **[#2] Interesting variables with respect to target**"
   ]
  },
  {
   "cell_type": "code",
   "execution_count": 11,
   "metadata": {
    "pycharm": {
     "name": "#%%\n"
    }
   },
   "outputs": [],
   "source": [
    "import matplotlib.pyplot as plt\n",
    "import seaborn as sns"
   ]
  },
  {
   "cell_type": "code",
   "execution_count": 12,
   "metadata": {
    "pycharm": {
     "name": "#%%\n"
    }
   },
   "outputs": [
    {
     "data": {
      "text/html": [
       "<div>\n",
       "<style scoped>\n",
       "    .dataframe tbody tr th:only-of-type {\n",
       "        vertical-align: middle;\n",
       "    }\n",
       "\n",
       "    .dataframe tbody tr th {\n",
       "        vertical-align: top;\n",
       "    }\n",
       "\n",
       "    .dataframe thead th {\n",
       "        text-align: right;\n",
       "    }\n",
       "</style>\n",
       "<table border=\"1\" class=\"dataframe\">\n",
       "  <thead>\n",
       "    <tr style=\"text-align: right;\">\n",
       "      <th></th>\n",
       "      <th>CODE_GENDER</th>\n",
       "      <th>TARGET</th>\n",
       "    </tr>\n",
       "  </thead>\n",
       "  <tbody>\n",
       "    <tr>\n",
       "      <th>0</th>\n",
       "      <td>F</td>\n",
       "      <td>202448</td>\n",
       "    </tr>\n",
       "    <tr>\n",
       "      <th>1</th>\n",
       "      <td>M</td>\n",
       "      <td>105059</td>\n",
       "    </tr>\n",
       "    <tr>\n",
       "      <th>2</th>\n",
       "      <td>XNA</td>\n",
       "      <td>4</td>\n",
       "    </tr>\n",
       "  </tbody>\n",
       "</table>\n",
       "</div>"
      ],
      "text/plain": [
       "  CODE_GENDER  TARGET\n",
       "0           F  202448\n",
       "1           M  105059\n",
       "2         XNA       4"
      ]
     },
     "execution_count": 12,
     "metadata": {},
     "output_type": "execute_result"
    }
   ],
   "source": [
    "total_tg = ap_train.groupby('CODE_GENDER',as_index = False).CODE_GENDER.size()\n",
    "total_tg = total_tg.rename(columns={\"size\": \"TARGET\"})\n",
    "total_tg"
   ]
  },
  {
   "cell_type": "code",
   "execution_count": 13,
   "metadata": {
    "pycharm": {
     "name": "#%%\n"
    }
   },
   "outputs": [
    {
     "data": {
      "text/html": [
       "<div>\n",
       "<style scoped>\n",
       "    .dataframe tbody tr th:only-of-type {\n",
       "        vertical-align: middle;\n",
       "    }\n",
       "\n",
       "    .dataframe tbody tr th {\n",
       "        vertical-align: top;\n",
       "    }\n",
       "\n",
       "    .dataframe thead th {\n",
       "        text-align: right;\n",
       "    }\n",
       "</style>\n",
       "<table border=\"1\" class=\"dataframe\">\n",
       "  <thead>\n",
       "    <tr style=\"text-align: right;\">\n",
       "      <th></th>\n",
       "      <th>CODE_GENDER</th>\n",
       "      <th>TARGET</th>\n",
       "      <th>size</th>\n",
       "    </tr>\n",
       "  </thead>\n",
       "  <tbody>\n",
       "    <tr>\n",
       "      <th>0</th>\n",
       "      <td>F</td>\n",
       "      <td>0</td>\n",
       "      <td>188278</td>\n",
       "    </tr>\n",
       "    <tr>\n",
       "      <th>1</th>\n",
       "      <td>F</td>\n",
       "      <td>1</td>\n",
       "      <td>14170</td>\n",
       "    </tr>\n",
       "    <tr>\n",
       "      <th>2</th>\n",
       "      <td>M</td>\n",
       "      <td>0</td>\n",
       "      <td>94404</td>\n",
       "    </tr>\n",
       "    <tr>\n",
       "      <th>3</th>\n",
       "      <td>M</td>\n",
       "      <td>1</td>\n",
       "      <td>10655</td>\n",
       "    </tr>\n",
       "    <tr>\n",
       "      <th>4</th>\n",
       "      <td>XNA</td>\n",
       "      <td>0</td>\n",
       "      <td>4</td>\n",
       "    </tr>\n",
       "  </tbody>\n",
       "</table>\n",
       "</div>"
      ],
      "text/plain": [
       "  CODE_GENDER  TARGET    size\n",
       "0           F       0  188278\n",
       "1           F       1   14170\n",
       "2           M       0   94404\n",
       "3           M       1   10655\n",
       "4         XNA       0       4"
      ]
     },
     "execution_count": 13,
     "metadata": {},
     "output_type": "execute_result"
    }
   ],
   "source": [
    "loaned_tot = ap_train.groupby(['CODE_GENDER', 'TARGET'],as_index = False).TARGET.size()\n",
    "loaned_tot"
   ]
  },
  {
   "cell_type": "code",
   "execution_count": 14,
   "metadata": {
    "pycharm": {
     "name": "#%%\n"
    }
   },
   "outputs": [
    {
     "data": {
      "text/html": [
       "<div>\n",
       "<style scoped>\n",
       "    .dataframe tbody tr th:only-of-type {\n",
       "        vertical-align: middle;\n",
       "    }\n",
       "\n",
       "    .dataframe tbody tr th {\n",
       "        vertical-align: top;\n",
       "    }\n",
       "\n",
       "    .dataframe thead th {\n",
       "        text-align: right;\n",
       "    }\n",
       "</style>\n",
       "<table border=\"1\" class=\"dataframe\">\n",
       "  <thead>\n",
       "    <tr style=\"text-align: right;\">\n",
       "      <th></th>\n",
       "      <th>CODE_GENDER</th>\n",
       "      <th>TARGET</th>\n",
       "      <th>size</th>\n",
       "    </tr>\n",
       "  </thead>\n",
       "  <tbody>\n",
       "    <tr>\n",
       "      <th>1</th>\n",
       "      <td>F</td>\n",
       "      <td>1</td>\n",
       "      <td>14170</td>\n",
       "    </tr>\n",
       "    <tr>\n",
       "      <th>3</th>\n",
       "      <td>M</td>\n",
       "      <td>1</td>\n",
       "      <td>10655</td>\n",
       "    </tr>\n",
       "    <tr>\n",
       "      <th>4</th>\n",
       "      <td>XNA</td>\n",
       "      <td>0</td>\n",
       "      <td>4</td>\n",
       "    </tr>\n",
       "  </tbody>\n",
       "</table>\n",
       "</div>"
      ],
      "text/plain": [
       "  CODE_GENDER  TARGET   size\n",
       "1           F       1  14170\n",
       "3           M       1  10655\n",
       "4         XNA       0      4"
      ]
     },
     "execution_count": 14,
     "metadata": {},
     "output_type": "execute_result"
    }
   ],
   "source": [
    "loaned = loaned_tot.drop([0,2])\n",
    "notloaned = loaned_tot.drop([1, 3])\n",
    "loaned"
   ]
  },
  {
   "cell_type": "code",
   "execution_count": 15,
   "metadata": {
    "pycharm": {
     "name": "#%%\n"
    }
   },
   "outputs": [
    {
     "data": {
      "image/png": "[encoded data removed]",
      "text/plain": [
       "<Figure size 504x1008 with 1 Axes>"
      ]
     },
     "metadata": {
      "needs_background": "light"
     },
     "output_type": "display_data"
    }
   ],
   "source": [
    "plt.figure(figsize= (7, 14))\n",
    "bar1 = sns.barplot(x=\"CODE_GENDER\", y=\"TARGET\", data=total_tg, color='darkblue')\n",
    "bar2 = sns.barplot(x=\"CODE_GENDER\", y=\"size\", data=notloaned, color='lightblue')\n"
   ]
  },
  {
   "cell_type": "code",
   "execution_count": 16,
   "metadata": {},
   "outputs": [
    {
     "data": {
      "image/png": "[encoded data removed]",
      "text/plain": [
       "<Figure size 720x360 with 1 Axes>"
      ]
     },
     "metadata": {
      "needs_background": "light"
     },
     "output_type": "display_data"
    }
   ],
   "source": [
    "ax=loaned_tot.pivot(index=\"TARGET\", columns=\"CODE_GENDER\", values='size').plot.barh(figsize= (10, 5),\n",
    "                                                                                color={\"F\":\"pink\", \"M\":\"blue\", \"XNA\":\"grey\"}, \n",
    "                                                                               rot=0,\n",
    "                                                                               xlabel=\"\", \n",
    "                                                                                    width=1)\n",
    "\n",
    "                                                                               "
   ]
  },
  {
   "cell_type": "code",
   "execution_count": 17,
   "metadata": {
    "pycharm": {
     "name": "#%%\n"
    }
   },
   "outputs": [],
   "source": [
    "insolvency = {'CODE_GENDER': ['M', 'F'], 'insolvencyrate': [7, 10.52]}\n",
    "insolvency = pd.DataFrame(insolvency)"
   ]
  },
  {
   "cell_type": "code",
   "execution_count": 18,
   "metadata": {
    "pycharm": {
     "name": "#%%\n"
    }
   },
   "outputs": [
    {
     "data": {
      "image/png": "[encoded data removed]",
      "text/plain": [
       "<Figure size 432x288 with 1 Axes>"
      ]
     },
     "metadata": {
      "needs_background": "light"
     },
     "output_type": "display_data"
    }
   ],
   "source": [
    "colors= [ 'lightblue', 'pink']\n",
    "bar3 = sns.barplot(x=\"CODE_GENDER\", y=\"insolvencyrate\", data=insolvency, palette=colors)"
   ]
  },
  {
   "cell_type": "code",
   "execution_count": 19,
   "metadata": {
    "pycharm": {
     "name": "#%%\n"
    }
   },
   "outputs": [],
   "source": [
    "import age"
   ]
  },
  {
   "cell_type": "code",
   "execution_count": 20,
   "metadata": {
    "pycharm": {
     "name": "#%%\n"
    }
   },
   "outputs": [],
   "source": [
    "bins = [20, 31, 42, 53, 64, 75]\n",
    "labels = ['20-31', '31-42', '42-53', '53-64', '64-75']\n",
    "ap_train['AGERANGE'] = pd.cut(ap_train.DAYS_BIRTH, bins, labels = labels,include_lowest = True)"
   ]
  },
  {
   "cell_type": "code",
   "execution_count": 21,
   "metadata": {
    "pycharm": {
     "name": "#%%\n"
    }
   },
   "outputs": [
    {
     "data": {
      "text/html": [
       "<div>\n",
       "<style scoped>\n",
       "    .dataframe tbody tr th:only-of-type {\n",
       "        vertical-align: middle;\n",
       "    }\n",
       "\n",
       "    .dataframe tbody tr th {\n",
       "        vertical-align: top;\n",
       "    }\n",
       "\n",
       "    .dataframe thead th {\n",
       "        text-align: right;\n",
       "    }\n",
       "</style>\n",
       "<table border=\"1\" class=\"dataframe\">\n",
       "  <thead>\n",
       "    <tr style=\"text-align: right;\">\n",
       "      <th></th>\n",
       "      <th>AGERANGE</th>\n",
       "      <th>TARGET</th>\n",
       "    </tr>\n",
       "  </thead>\n",
       "  <tbody>\n",
       "    <tr>\n",
       "      <th>0</th>\n",
       "      <td>20-31</td>\n",
       "      <td>56890</td>\n",
       "    </tr>\n",
       "    <tr>\n",
       "      <th>1</th>\n",
       "      <td>31-42</td>\n",
       "      <td>91552</td>\n",
       "    </tr>\n",
       "    <tr>\n",
       "      <th>2</th>\n",
       "      <td>42-53</td>\n",
       "      <td>78987</td>\n",
       "    </tr>\n",
       "    <tr>\n",
       "      <th>3</th>\n",
       "      <td>53-64</td>\n",
       "      <td>69321</td>\n",
       "    </tr>\n",
       "    <tr>\n",
       "      <th>4</th>\n",
       "      <td>64-75</td>\n",
       "      <td>10761</td>\n",
       "    </tr>\n",
       "  </tbody>\n",
       "</table>\n",
       "</div>"
      ],
      "text/plain": [
       "  AGERANGE  TARGET\n",
       "0    20-31   56890\n",
       "1    31-42   91552\n",
       "2    42-53   78987\n",
       "3    53-64   69321\n",
       "4    64-75   10761"
      ]
     },
     "execution_count": 21,
     "metadata": {},
     "output_type": "execute_result"
    }
   ],
   "source": [
    "totalage = ap_train.groupby(['AGERANGE'],as_index = False).TARGET.count()\n",
    "totalage"
   ]
  },
  {
   "cell_type": "code",
   "execution_count": 22,
   "metadata": {
    "pycharm": {
     "name": "#%%\n"
    }
   },
   "outputs": [],
   "source": [
    "age = ap_train.groupby(['AGERANGE', 'TARGET'],as_index = False).TARGET.size()\n",
    "agenotloan = age.drop([0, 2, 4, 6, 8])"
   ]
  },
  {
   "cell_type": "code",
   "execution_count": 23,
   "metadata": {
    "pycharm": {
     "name": "#%%\n"
    }
   },
   "outputs": [
    {
     "data": {
      "text/html": [
       "<div>\n",
       "<style scoped>\n",
       "    .dataframe tbody tr th:only-of-type {\n",
       "        vertical-align: middle;\n",
       "    }\n",
       "\n",
       "    .dataframe tbody tr th {\n",
       "        vertical-align: top;\n",
       "    }\n",
       "\n",
       "    .dataframe thead th {\n",
       "        text-align: right;\n",
       "    }\n",
       "</style>\n",
       "<table border=\"1\" class=\"dataframe\">\n",
       "  <thead>\n",
       "    <tr style=\"text-align: right;\">\n",
       "      <th></th>\n",
       "      <th>AGERANGE</th>\n",
       "      <th>TARGET</th>\n",
       "      <th>size</th>\n",
       "    </tr>\n",
       "  </thead>\n",
       "  <tbody>\n",
       "    <tr>\n",
       "      <th>1</th>\n",
       "      <td>20-31</td>\n",
       "      <td>1</td>\n",
       "      <td>6443</td>\n",
       "    </tr>\n",
       "    <tr>\n",
       "      <th>3</th>\n",
       "      <td>31-42</td>\n",
       "      <td>1</td>\n",
       "      <td>8279</td>\n",
       "    </tr>\n",
       "    <tr>\n",
       "      <th>5</th>\n",
       "      <td>42-53</td>\n",
       "      <td>1</td>\n",
       "      <td>5811</td>\n",
       "    </tr>\n",
       "    <tr>\n",
       "      <th>7</th>\n",
       "      <td>53-64</td>\n",
       "      <td>1</td>\n",
       "      <td>3848</td>\n",
       "    </tr>\n",
       "    <tr>\n",
       "      <th>9</th>\n",
       "      <td>64-75</td>\n",
       "      <td>1</td>\n",
       "      <td>444</td>\n",
       "    </tr>\n",
       "  </tbody>\n",
       "</table>\n",
       "</div>"
      ],
      "text/plain": [
       "  AGERANGE  TARGET  size\n",
       "1    20-31       1  6443\n",
       "3    31-42       1  8279\n",
       "5    42-53       1  5811\n",
       "7    53-64       1  3848\n",
       "9    64-75       1   444"
      ]
     },
     "execution_count": 23,
     "metadata": {},
     "output_type": "execute_result"
    }
   ],
   "source": [
    "agenotloan"
   ]
  },
  {
   "cell_type": "code",
   "execution_count": 24,
   "metadata": {
    "pycharm": {
     "name": "#%%\n"
    }
   },
   "outputs": [],
   "source": [
    "ageloan = age.drop([1, 3, 5, 7, 9])"
   ]
  },
  {
   "cell_type": "code",
   "execution_count": 25,
   "metadata": {
    "pycharm": {
     "name": "#%%\n"
    }
   },
   "outputs": [
    {
     "data": {
      "text/html": [
       "<div>\n",
       "<style scoped>\n",
       "    .dataframe tbody tr th:only-of-type {\n",
       "        vertical-align: middle;\n",
       "    }\n",
       "\n",
       "    .dataframe tbody tr th {\n",
       "        vertical-align: top;\n",
       "    }\n",
       "\n",
       "    .dataframe thead th {\n",
       "        text-align: right;\n",
       "    }\n",
       "</style>\n",
       "<table border=\"1\" class=\"dataframe\">\n",
       "  <thead>\n",
       "    <tr style=\"text-align: right;\">\n",
       "      <th></th>\n",
       "      <th>AGERANGE</th>\n",
       "      <th>TARGET_x</th>\n",
       "      <th>size_x</th>\n",
       "      <th>TARGET_y</th>\n",
       "      <th>size_y</th>\n",
       "    </tr>\n",
       "  </thead>\n",
       "  <tbody>\n",
       "    <tr>\n",
       "      <th>0</th>\n",
       "      <td>20-31</td>\n",
       "      <td>0</td>\n",
       "      <td>50447</td>\n",
       "      <td>1</td>\n",
       "      <td>6443</td>\n",
       "    </tr>\n",
       "    <tr>\n",
       "      <th>1</th>\n",
       "      <td>31-42</td>\n",
       "      <td>0</td>\n",
       "      <td>83273</td>\n",
       "      <td>1</td>\n",
       "      <td>8279</td>\n",
       "    </tr>\n",
       "    <tr>\n",
       "      <th>2</th>\n",
       "      <td>42-53</td>\n",
       "      <td>0</td>\n",
       "      <td>73176</td>\n",
       "      <td>1</td>\n",
       "      <td>5811</td>\n",
       "    </tr>\n",
       "    <tr>\n",
       "      <th>3</th>\n",
       "      <td>53-64</td>\n",
       "      <td>0</td>\n",
       "      <td>65473</td>\n",
       "      <td>1</td>\n",
       "      <td>3848</td>\n",
       "    </tr>\n",
       "    <tr>\n",
       "      <th>4</th>\n",
       "      <td>64-75</td>\n",
       "      <td>0</td>\n",
       "      <td>10317</td>\n",
       "      <td>1</td>\n",
       "      <td>444</td>\n",
       "    </tr>\n",
       "  </tbody>\n",
       "</table>\n",
       "</div>"
      ],
      "text/plain": [
       "  AGERANGE  TARGET_x  size_x  TARGET_y  size_y\n",
       "0    20-31         0   50447         1    6443\n",
       "1    31-42         0   83273         1    8279\n",
       "2    42-53         0   73176         1    5811\n",
       "3    53-64         0   65473         1    3848\n",
       "4    64-75         0   10317         1     444"
      ]
     },
     "execution_count": 25,
     "metadata": {},
     "output_type": "execute_result"
    }
   ],
   "source": [
    "tot_age_target = pd.merge(ageloan, agenotloan, on=[\"AGERANGE\"])\n",
    "tot_age_target"
   ]
  },
  {
   "cell_type": "code",
   "execution_count": 26,
   "metadata": {
    "pycharm": {
     "name": "#%%\n"
    }
   },
   "outputs": [
    {
     "data": {
      "text/html": [
       "<div>\n",
       "<style scoped>\n",
       "    .dataframe tbody tr th:only-of-type {\n",
       "        vertical-align: middle;\n",
       "    }\n",
       "\n",
       "    .dataframe tbody tr th {\n",
       "        vertical-align: top;\n",
       "    }\n",
       "\n",
       "    .dataframe thead th {\n",
       "        text-align: right;\n",
       "    }\n",
       "</style>\n",
       "<table border=\"1\" class=\"dataframe\">\n",
       "  <thead>\n",
       "    <tr style=\"text-align: right;\">\n",
       "      <th></th>\n",
       "      <th>AGERANGE</th>\n",
       "      <th>TARGET_x</th>\n",
       "      <th>size_x</th>\n",
       "      <th>TARGET_y</th>\n",
       "      <th>size_y</th>\n",
       "      <th>totperc_ageloan</th>\n",
       "      <th>totperc_agenotloan</th>\n",
       "    </tr>\n",
       "  </thead>\n",
       "  <tbody>\n",
       "    <tr>\n",
       "      <th>0</th>\n",
       "      <td>20-31</td>\n",
       "      <td>0</td>\n",
       "      <td>50447</td>\n",
       "      <td>1</td>\n",
       "      <td>6443</td>\n",
       "      <td>89</td>\n",
       "      <td>11</td>\n",
       "    </tr>\n",
       "    <tr>\n",
       "      <th>1</th>\n",
       "      <td>31-42</td>\n",
       "      <td>0</td>\n",
       "      <td>83273</td>\n",
       "      <td>1</td>\n",
       "      <td>8279</td>\n",
       "      <td>91</td>\n",
       "      <td>9</td>\n",
       "    </tr>\n",
       "    <tr>\n",
       "      <th>2</th>\n",
       "      <td>42-53</td>\n",
       "      <td>0</td>\n",
       "      <td>73176</td>\n",
       "      <td>1</td>\n",
       "      <td>5811</td>\n",
       "      <td>93</td>\n",
       "      <td>7</td>\n",
       "    </tr>\n",
       "    <tr>\n",
       "      <th>3</th>\n",
       "      <td>53-64</td>\n",
       "      <td>0</td>\n",
       "      <td>65473</td>\n",
       "      <td>1</td>\n",
       "      <td>3848</td>\n",
       "      <td>94</td>\n",
       "      <td>6</td>\n",
       "    </tr>\n",
       "    <tr>\n",
       "      <th>4</th>\n",
       "      <td>64-75</td>\n",
       "      <td>0</td>\n",
       "      <td>10317</td>\n",
       "      <td>1</td>\n",
       "      <td>444</td>\n",
       "      <td>96</td>\n",
       "      <td>4</td>\n",
       "    </tr>\n",
       "  </tbody>\n",
       "</table>\n",
       "</div>"
      ],
      "text/plain": [
       "  AGERANGE  TARGET_x  size_x  TARGET_y  size_y  totperc_ageloan  \\\n",
       "0    20-31         0   50447         1    6443               89   \n",
       "1    31-42         0   83273         1    8279               91   \n",
       "2    42-53         0   73176         1    5811               93   \n",
       "3    53-64         0   65473         1    3848               94   \n",
       "4    64-75         0   10317         1     444               96   \n",
       "\n",
       "   totperc_agenotloan  \n",
       "0                  11  \n",
       "1                   9  \n",
       "2                   7  \n",
       "3                   6  \n",
       "4                   4  "
      ]
     },
     "execution_count": 26,
     "metadata": {},
     "output_type": "execute_result"
    }
   ],
   "source": [
    "totperc_ageloan = [89, 91, 93, 94, 96]\n",
    "totperc_agenotloan = [11, 9, 7, 6, 4]\n",
    "tot_age_target['totperc_ageloan'] = totperc_ageloan\n",
    "tot_age_target['totperc_agenotloan'] = totperc_agenotloan\n",
    "tot_age_target"
   ]
  },
  {
   "cell_type": "code",
   "execution_count": 27,
   "metadata": {
    "pycharm": {
     "name": "#%%\n"
    }
   },
   "outputs": [
    {
     "data": {
      "image/png": "[encoded data removed]",
      "text/plain": [
       "<Figure size 648x504 with 1 Axes>"
      ]
     },
     "metadata": {
      "needs_background": "light"
     },
     "output_type": "display_data"
    }
   ],
   "source": [
    "ratio_agepaytotal = tot_age_target[\"totperc_ageloan\"]\n",
    "ratio_agenotpaytotal = tot_age_target[\"totperc_agenotloan\"]\n",
    "label = tot_age_target[\"AGERANGE\"]\n",
    "x = np.arange(len(label))\n",
    "n=2\n",
    "r = np.arange(n)\n",
    "width = 0.25\n",
    "\n",
    "fig, ax = plt.subplots(1,1, figsize = (9,7))\n",
    "rects1 = ax.bar(x - width/2,\n",
    "              tot_age_target['size_x'],\n",
    "              width = width,\n",
    "               label = \"Paid\",\n",
    "               edgecolor='red',\n",
    "               color=\"lightgrey\")\n",
    "\n",
    "rects2 = ax.bar(x + width/2,\n",
    "              tot_age_target['size_y'],\n",
    "              width = width,\n",
    "              label = \"Not Paid\",\n",
    "              edgecolor=\"green\",\n",
    "               color=\"lightgrey\")\n",
    "\n",
    "ax.set_ylabel(\"Count\",\n",
    "             fontsize = 20,\n",
    "             labelpad = 20)\n",
    "ax.set_xlabel(\"Age Range\",\n",
    "             fontsize = 20,\n",
    "             labelpad =20)\n",
    "ax.set_title(\"percentage between payed and not payed by age \",\n",
    "            fontsize = 30,\n",
    "            pad = 20)\n",
    "\n",
    "ax.set_xticks(x)\n",
    "ax.set_xticklabels(label)\n",
    "\n",
    "ax.legend(\n",
    "         fontsize = 16,\n",
    "         title_fontsize = 20)\n",
    "\n",
    "\n",
    "#for rect,p in zip(rects1, ratio_agepaytotal):\n",
    "    #height = rect.get_height()\n",
    "    #ax.text(rect.get_x() + rect.get_width()/2, height+5, str(p)+'%', ha='left', va='bottom', fontsize=12, rotation=45, color='black')\n",
    "\n",
    "#for rect,p in zip(rects2, ratio_agenotpaytotal):\n",
    "   # height = rect.get_height()\n",
    "  #  ax.text(rect.get_x() + rect.get_width()/2, height+5, str(p)+'%', ha='left', va='bottom', fontsize=12, rotation=45, color='black')\n",
    "\n",
    "plt.show()"
   ]
  },
  {
   "cell_type": "markdown",
   "metadata": {
    "id": "tlswcLPxlMcs",
    "pycharm": {
     "name": "#%% md\n"
    }
   },
   "source": [
    "Let's prepare the data for a simple ML model.\n",
    "\n",
    "First of all, feature encoding."
   ]
  },
  {
   "cell_type": "code",
   "execution_count": 28,
   "metadata": {
    "id": "a6_KH-o9v069",
    "pycharm": {
     "name": "#%%\n"
    }
   },
   "outputs": [],
   "source": [
    "ap_train['CODE_GENDER_M'] = np.select([ap_train['CODE_GENDER'] == 'M', ap_train['CODE_GENDER'] == 'F'], [1, 0], default=np.NaN)\n",
    "ap_train['FLAG_OWN_CAR'] = np.where(ap_train['FLAG_OWN_CAR'] == 'Y', 1, 0)\n",
    "ap_train['FLAG_OWN_REALTY'] = np.where(ap_train['FLAG_OWN_REALTY'] == 'Y', 1, 0)\n",
    "ap_train.drop(columns='CODE_GENDER', inplace=True)"
   ]
  },
  {
   "cell_type": "code",
   "execution_count": 29,
   "metadata": {
    "pycharm": {
     "name": "#%%\n"
    }
   },
   "outputs": [
    {
     "data": {
      "text/html": [
       "<div>\n",
       "<style scoped>\n",
       "    .dataframe tbody tr th:only-of-type {\n",
       "        vertical-align: middle;\n",
       "    }\n",
       "\n",
       "    .dataframe tbody tr th {\n",
       "        vertical-align: top;\n",
       "    }\n",
       "\n",
       "    .dataframe thead th {\n",
       "        text-align: right;\n",
       "    }\n",
       "</style>\n",
       "<table border=\"1\" class=\"dataframe\">\n",
       "  <thead>\n",
       "    <tr style=\"text-align: right;\">\n",
       "      <th></th>\n",
       "      <th>SK_ID_CURR</th>\n",
       "      <th>TARGET</th>\n",
       "      <th>NAME_CONTRACT_TYPE</th>\n",
       "      <th>FLAG_OWN_CAR</th>\n",
       "      <th>FLAG_OWN_REALTY</th>\n",
       "      <th>CNT_CHILDREN</th>\n",
       "      <th>AMT_INCOME_TOTAL</th>\n",
       "      <th>AMT_CREDIT</th>\n",
       "      <th>AMT_ANNUITY</th>\n",
       "      <th>AMT_GOODS_PRICE</th>\n",
       "      <th>...</th>\n",
       "      <th>DAYS_EMPLOYED</th>\n",
       "      <th>DAYS_REGISTRATION</th>\n",
       "      <th>DAYS_ID_PUBLISH</th>\n",
       "      <th>OWN_CAR_AGE</th>\n",
       "      <th>OCCUPATION_TYPE</th>\n",
       "      <th>EXT_SOURCE_1</th>\n",
       "      <th>EXT_SOURCE_2</th>\n",
       "      <th>EXT_SOURCE_3</th>\n",
       "      <th>AGERANGE</th>\n",
       "      <th>CODE_GENDER_M</th>\n",
       "    </tr>\n",
       "  </thead>\n",
       "  <tbody>\n",
       "    <tr>\n",
       "      <th>0</th>\n",
       "      <td>100002</td>\n",
       "      <td>1</td>\n",
       "      <td>Cash loans</td>\n",
       "      <td>0</td>\n",
       "      <td>1</td>\n",
       "      <td>0</td>\n",
       "      <td>202500.0</td>\n",
       "      <td>406597.5</td>\n",
       "      <td>24700.5</td>\n",
       "      <td>351000.0</td>\n",
       "      <td>...</td>\n",
       "      <td>-637</td>\n",
       "      <td>-3648.0</td>\n",
       "      <td>-2120</td>\n",
       "      <td>NaN</td>\n",
       "      <td>Laborers</td>\n",
       "      <td>0.083037</td>\n",
       "      <td>0.262949</td>\n",
       "      <td>0.139376</td>\n",
       "      <td>20-31</td>\n",
       "      <td>1.0</td>\n",
       "    </tr>\n",
       "    <tr>\n",
       "      <th>1</th>\n",
       "      <td>100003</td>\n",
       "      <td>0</td>\n",
       "      <td>Cash loans</td>\n",
       "      <td>0</td>\n",
       "      <td>0</td>\n",
       "      <td>0</td>\n",
       "      <td>270000.0</td>\n",
       "      <td>1293502.5</td>\n",
       "      <td>35698.5</td>\n",
       "      <td>1129500.0</td>\n",
       "      <td>...</td>\n",
       "      <td>-1188</td>\n",
       "      <td>-1186.0</td>\n",
       "      <td>-291</td>\n",
       "      <td>NaN</td>\n",
       "      <td>Core staff</td>\n",
       "      <td>0.311267</td>\n",
       "      <td>0.622246</td>\n",
       "      <td>NaN</td>\n",
       "      <td>42-53</td>\n",
       "      <td>0.0</td>\n",
       "    </tr>\n",
       "    <tr>\n",
       "      <th>2</th>\n",
       "      <td>100004</td>\n",
       "      <td>0</td>\n",
       "      <td>Revolving loans</td>\n",
       "      <td>1</td>\n",
       "      <td>1</td>\n",
       "      <td>0</td>\n",
       "      <td>67500.0</td>\n",
       "      <td>135000.0</td>\n",
       "      <td>6750.0</td>\n",
       "      <td>135000.0</td>\n",
       "      <td>...</td>\n",
       "      <td>-225</td>\n",
       "      <td>-4260.0</td>\n",
       "      <td>-2531</td>\n",
       "      <td>26.0</td>\n",
       "      <td>Laborers</td>\n",
       "      <td>NaN</td>\n",
       "      <td>0.555912</td>\n",
       "      <td>0.729567</td>\n",
       "      <td>42-53</td>\n",
       "      <td>1.0</td>\n",
       "    </tr>\n",
       "    <tr>\n",
       "      <th>3</th>\n",
       "      <td>100006</td>\n",
       "      <td>0</td>\n",
       "      <td>Cash loans</td>\n",
       "      <td>0</td>\n",
       "      <td>1</td>\n",
       "      <td>0</td>\n",
       "      <td>135000.0</td>\n",
       "      <td>312682.5</td>\n",
       "      <td>29686.5</td>\n",
       "      <td>297000.0</td>\n",
       "      <td>...</td>\n",
       "      <td>-3039</td>\n",
       "      <td>-9833.0</td>\n",
       "      <td>-2437</td>\n",
       "      <td>NaN</td>\n",
       "      <td>Laborers</td>\n",
       "      <td>NaN</td>\n",
       "      <td>0.650442</td>\n",
       "      <td>NaN</td>\n",
       "      <td>42-53</td>\n",
       "      <td>0.0</td>\n",
       "    </tr>\n",
       "    <tr>\n",
       "      <th>4</th>\n",
       "      <td>100007</td>\n",
       "      <td>0</td>\n",
       "      <td>Cash loans</td>\n",
       "      <td>0</td>\n",
       "      <td>1</td>\n",
       "      <td>0</td>\n",
       "      <td>121500.0</td>\n",
       "      <td>513000.0</td>\n",
       "      <td>21865.5</td>\n",
       "      <td>513000.0</td>\n",
       "      <td>...</td>\n",
       "      <td>-3038</td>\n",
       "      <td>-4311.0</td>\n",
       "      <td>-3458</td>\n",
       "      <td>NaN</td>\n",
       "      <td>Core staff</td>\n",
       "      <td>NaN</td>\n",
       "      <td>0.322738</td>\n",
       "      <td>NaN</td>\n",
       "      <td>53-64</td>\n",
       "      <td>1.0</td>\n",
       "    </tr>\n",
       "    <tr>\n",
       "      <th>...</th>\n",
       "      <td>...</td>\n",
       "      <td>...</td>\n",
       "      <td>...</td>\n",
       "      <td>...</td>\n",
       "      <td>...</td>\n",
       "      <td>...</td>\n",
       "      <td>...</td>\n",
       "      <td>...</td>\n",
       "      <td>...</td>\n",
       "      <td>...</td>\n",
       "      <td>...</td>\n",
       "      <td>...</td>\n",
       "      <td>...</td>\n",
       "      <td>...</td>\n",
       "      <td>...</td>\n",
       "      <td>...</td>\n",
       "      <td>...</td>\n",
       "      <td>...</td>\n",
       "      <td>...</td>\n",
       "      <td>...</td>\n",
       "      <td>...</td>\n",
       "    </tr>\n",
       "    <tr>\n",
       "      <th>307506</th>\n",
       "      <td>456251</td>\n",
       "      <td>0</td>\n",
       "      <td>Cash loans</td>\n",
       "      <td>0</td>\n",
       "      <td>0</td>\n",
       "      <td>0</td>\n",
       "      <td>157500.0</td>\n",
       "      <td>254700.0</td>\n",
       "      <td>27558.0</td>\n",
       "      <td>225000.0</td>\n",
       "      <td>...</td>\n",
       "      <td>-236</td>\n",
       "      <td>-8456.0</td>\n",
       "      <td>-1982</td>\n",
       "      <td>NaN</td>\n",
       "      <td>Sales staff</td>\n",
       "      <td>0.145570</td>\n",
       "      <td>0.681632</td>\n",
       "      <td>NaN</td>\n",
       "      <td>20-31</td>\n",
       "      <td>1.0</td>\n",
       "    </tr>\n",
       "    <tr>\n",
       "      <th>307507</th>\n",
       "      <td>456252</td>\n",
       "      <td>0</td>\n",
       "      <td>Cash loans</td>\n",
       "      <td>0</td>\n",
       "      <td>1</td>\n",
       "      <td>0</td>\n",
       "      <td>72000.0</td>\n",
       "      <td>269550.0</td>\n",
       "      <td>12001.5</td>\n",
       "      <td>225000.0</td>\n",
       "      <td>...</td>\n",
       "      <td>365243</td>\n",
       "      <td>-4388.0</td>\n",
       "      <td>-4090</td>\n",
       "      <td>NaN</td>\n",
       "      <td>NaN</td>\n",
       "      <td>NaN</td>\n",
       "      <td>0.115992</td>\n",
       "      <td>NaN</td>\n",
       "      <td>53-64</td>\n",
       "      <td>0.0</td>\n",
       "    </tr>\n",
       "    <tr>\n",
       "      <th>307508</th>\n",
       "      <td>456253</td>\n",
       "      <td>0</td>\n",
       "      <td>Cash loans</td>\n",
       "      <td>0</td>\n",
       "      <td>1</td>\n",
       "      <td>0</td>\n",
       "      <td>153000.0</td>\n",
       "      <td>677664.0</td>\n",
       "      <td>29979.0</td>\n",
       "      <td>585000.0</td>\n",
       "      <td>...</td>\n",
       "      <td>-7921</td>\n",
       "      <td>-6737.0</td>\n",
       "      <td>-5150</td>\n",
       "      <td>NaN</td>\n",
       "      <td>Managers</td>\n",
       "      <td>0.744026</td>\n",
       "      <td>0.535722</td>\n",
       "      <td>0.218859</td>\n",
       "      <td>31-42</td>\n",
       "      <td>0.0</td>\n",
       "    </tr>\n",
       "    <tr>\n",
       "      <th>307509</th>\n",
       "      <td>456254</td>\n",
       "      <td>1</td>\n",
       "      <td>Cash loans</td>\n",
       "      <td>0</td>\n",
       "      <td>1</td>\n",
       "      <td>0</td>\n",
       "      <td>171000.0</td>\n",
       "      <td>370107.0</td>\n",
       "      <td>20205.0</td>\n",
       "      <td>319500.0</td>\n",
       "      <td>...</td>\n",
       "      <td>-4786</td>\n",
       "      <td>-2562.0</td>\n",
       "      <td>-931</td>\n",
       "      <td>NaN</td>\n",
       "      <td>Laborers</td>\n",
       "      <td>NaN</td>\n",
       "      <td>0.514163</td>\n",
       "      <td>0.661024</td>\n",
       "      <td>31-42</td>\n",
       "      <td>0.0</td>\n",
       "    </tr>\n",
       "    <tr>\n",
       "      <th>307510</th>\n",
       "      <td>456255</td>\n",
       "      <td>0</td>\n",
       "      <td>Cash loans</td>\n",
       "      <td>0</td>\n",
       "      <td>0</td>\n",
       "      <td>0</td>\n",
       "      <td>157500.0</td>\n",
       "      <td>675000.0</td>\n",
       "      <td>49117.5</td>\n",
       "      <td>675000.0</td>\n",
       "      <td>...</td>\n",
       "      <td>-1262</td>\n",
       "      <td>-5128.0</td>\n",
       "      <td>-410</td>\n",
       "      <td>NaN</td>\n",
       "      <td>Laborers</td>\n",
       "      <td>0.734460</td>\n",
       "      <td>0.708569</td>\n",
       "      <td>0.113922</td>\n",
       "      <td>42-53</td>\n",
       "      <td>0.0</td>\n",
       "    </tr>\n",
       "  </tbody>\n",
       "</table>\n",
       "<p>307511 rows × 27 columns</p>\n",
       "</div>"
      ],
      "text/plain": [
       "        SK_ID_CURR  TARGET NAME_CONTRACT_TYPE  FLAG_OWN_CAR  FLAG_OWN_REALTY  \\\n",
       "0           100002       1         Cash loans             0                1   \n",
       "1           100003       0         Cash loans             0                0   \n",
       "2           100004       0    Revolving loans             1                1   \n",
       "3           100006       0         Cash loans             0                1   \n",
       "4           100007       0         Cash loans             0                1   \n",
       "...            ...     ...                ...           ...              ...   \n",
       "307506      456251       0         Cash loans             0                0   \n",
       "307507      456252       0         Cash loans             0                1   \n",
       "307508      456253       0         Cash loans             0                1   \n",
       "307509      456254       1         Cash loans             0                1   \n",
       "307510      456255       0         Cash loans             0                0   \n",
       "\n",
       "        CNT_CHILDREN  AMT_INCOME_TOTAL  AMT_CREDIT  AMT_ANNUITY  \\\n",
       "0                  0          202500.0    406597.5      24700.5   \n",
       "1                  0          270000.0   1293502.5      35698.5   \n",
       "2                  0           67500.0    135000.0       6750.0   \n",
       "3                  0          135000.0    312682.5      29686.5   \n",
       "4                  0          121500.0    513000.0      21865.5   \n",
       "...              ...               ...         ...          ...   \n",
       "307506             0          157500.0    254700.0      27558.0   \n",
       "307507             0           72000.0    269550.0      12001.5   \n",
       "307508             0          153000.0    677664.0      29979.0   \n",
       "307509             0          171000.0    370107.0      20205.0   \n",
       "307510             0          157500.0    675000.0      49117.5   \n",
       "\n",
       "        AMT_GOODS_PRICE  ... DAYS_EMPLOYED DAYS_REGISTRATION DAYS_ID_PUBLISH  \\\n",
       "0              351000.0  ...          -637           -3648.0           -2120   \n",
       "1             1129500.0  ...         -1188           -1186.0            -291   \n",
       "2              135000.0  ...          -225           -4260.0           -2531   \n",
       "3              297000.0  ...         -3039           -9833.0           -2437   \n",
       "4              513000.0  ...         -3038           -4311.0           -3458   \n",
       "...                 ...  ...           ...               ...             ...   \n",
       "307506         225000.0  ...          -236           -8456.0           -1982   \n",
       "307507         225000.0  ...        365243           -4388.0           -4090   \n",
       "307508         585000.0  ...         -7921           -6737.0           -5150   \n",
       "307509         319500.0  ...         -4786           -2562.0            -931   \n",
       "307510         675000.0  ...         -1262           -5128.0            -410   \n",
       "\n",
       "       OWN_CAR_AGE OCCUPATION_TYPE  EXT_SOURCE_1  EXT_SOURCE_2  EXT_SOURCE_3  \\\n",
       "0              NaN        Laborers      0.083037      0.262949      0.139376   \n",
       "1              NaN      Core staff      0.311267      0.622246           NaN   \n",
       "2             26.0        Laborers           NaN      0.555912      0.729567   \n",
       "3              NaN        Laborers           NaN      0.650442           NaN   \n",
       "4              NaN      Core staff           NaN      0.322738           NaN   \n",
       "...            ...             ...           ...           ...           ...   \n",
       "307506         NaN     Sales staff      0.145570      0.681632           NaN   \n",
       "307507         NaN             NaN           NaN      0.115992           NaN   \n",
       "307508         NaN        Managers      0.744026      0.535722      0.218859   \n",
       "307509         NaN        Laborers           NaN      0.514163      0.661024   \n",
       "307510         NaN        Laborers      0.734460      0.708569      0.113922   \n",
       "\n",
       "        AGERANGE  CODE_GENDER_M  \n",
       "0          20-31            1.0  \n",
       "1          42-53            0.0  \n",
       "2          42-53            1.0  \n",
       "3          42-53            0.0  \n",
       "4          53-64            1.0  \n",
       "...          ...            ...  \n",
       "307506     20-31            1.0  \n",
       "307507     53-64            0.0  \n",
       "307508     31-42            0.0  \n",
       "307509     31-42            0.0  \n",
       "307510     42-53            0.0  \n",
       "\n",
       "[307511 rows x 27 columns]"
      ]
     },
     "execution_count": 29,
     "metadata": {},
     "output_type": "execute_result"
    }
   ],
   "source": [
    "ap_train"
   ]
  },
  {
   "cell_type": "code",
   "execution_count": 30,
   "metadata": {
    "id": "oF4zYc6jIY9O",
    "pycharm": {
     "name": "#%%\n"
    }
   },
   "outputs": [],
   "source": [
    "ap_objects = list(ap_train.select_dtypes(include=['object']).columns)\n",
    "ap_train[ap_objects] = ap_train[ap_objects].astype('category')"
   ]
  },
  {
   "cell_type": "markdown",
   "metadata": {
    "id": "Cj_Nu2Q6lUuE",
    "pycharm": {
     "name": "#%% md\n"
    }
   },
   "source": [
    "Let's separate the target from the rest of the data"
   ]
  },
  {
   "cell_type": "code",
   "execution_count": 31,
   "metadata": {
    "colab": {
     "base_uri": "https://localhost:8080/"
    },
    "executionInfo": {
     "elapsed": 439,
     "status": "ok",
     "timestamp": 1667664810441,
     "user": {
      "displayName": "Enrico De Siero",
      "userId": "13952448766742224982"
     },
     "user_tz": -60
    },
    "id": "DyJnyKucHZNh",
    "outputId": "771d6cca-f295-4051-fec7-89605e748866",
    "pycharm": {
     "name": "#%%\n"
    }
   },
   "outputs": [
    {
     "name": "stdout",
     "output_type": "stream",
     "text": [
      "Target dataset shape: (307511,)\n"
     ]
    }
   ],
   "source": [
    "ap_train_target = ap_train.pop('TARGET')\n",
    "print(f\"Target dataset shape: {ap_train_target.shape}\")"
   ]
  },
  {
   "cell_type": "markdown",
   "metadata": {
    "id": "z4jEfdfmlX-c",
    "pycharm": {
     "name": "#%% md\n"
    }
   },
   "source": [
    "Let's split the original dataset in two:\n",
    "\n",
    "*   80% for the train dataset\n",
    "*   20% for the test one\n",
    "\n"
   ]
  },
  {
   "cell_type": "code",
   "execution_count": 32,
   "metadata": {
    "colab": {
     "base_uri": "https://localhost:8080/"
    },
    "executionInfo": {
     "elapsed": 588,
     "status": "ok",
     "timestamp": 1667664818423,
     "user": {
      "displayName": "Enrico De Siero",
      "userId": "13952448766742224982"
     },
     "user_tz": -60
    },
    "id": "5lGp-5FL5V92",
    "outputId": "b166c4f2-247c-407d-d55a-84527050e046",
    "pycharm": {
     "name": "#%%\n"
    }
   },
   "outputs": [
    {
     "name": "stdout",
     "output_type": "stream",
     "text": [
      "Train dataset shape: (246008, 26)\n",
      "Test dataset shape: (61503, 26)\n"
     ]
    }
   ],
   "source": [
    "df_train, df_test, df_target_train, df_target_test = train_test_split(ap_train, ap_train_target, test_size=0.2, stratify=ap_train_target, random_state=42)\n",
    "\n",
    "print(f\"Train dataset shape: {df_train.shape}\")\n",
    "print(f\"Test dataset shape: {df_test.shape}\")"
   ]
  },
  {
   "cell_type": "code",
   "execution_count": null,
   "metadata": {
    "pycharm": {
     "name": "#%%\n"
    }
   },
   "outputs": [],
   "source": []
  },
  {
   "cell_type": "markdown",
   "metadata": {
    "id": "CL8NG3zd0tAk",
    "pycharm": {
     "name": "#%% md\n"
    }
   },
   "source": [
    "# Create a basic ML model and scoring on the test set"
   ]
  },
  {
   "cell_type": "markdown",
   "metadata": {
    "id": "gG0syrnClov0",
    "pycharm": {
     "name": "#%% md\n"
    }
   },
   "source": [
    "I'll train a simple XGBoost model (parameters previously chosen with cross-validation).  "
   ]
  },
  {
   "cell_type": "code",
   "execution_count": 33,
   "metadata": {
    "id": "12Iw3JvWZgUJ",
    "pycharm": {
     "name": "#%%\n"
    }
   },
   "outputs": [],
   "source": [
    "df_train_dmatrix = xgb.DMatrix(df_train.drop(columns='SK_ID_CURR'), df_target_train, enable_categorical=True)\n",
    "\n",
    "param = {'max_depth':6,\n",
    "         'eta':.2,\n",
    "         'subsample':.9,\n",
    "         'colsample_bytree':.9,\n",
    "         'scale_pos_weight':10,\n",
    "         'objective':'binary:logistic',\n",
    "         'tree_method':'exact'}\n",
    "xgb_base_model = xgb.train(param, df_train_dmatrix, num_boost_round=50)"
   ]
  },
  {
   "cell_type": "markdown",
   "metadata": {
    "id": "abUJJB6mmxYG",
    "pycharm": {
     "name": "#%% md\n"
    }
   },
   "source": [
    "Let's score the test set."
   ]
  },
  {
   "cell_type": "code",
   "execution_count": 34,
   "metadata": {
    "id": "e3jHoIqiQ6qx",
    "pycharm": {
     "name": "#%%\n"
    }
   },
   "outputs": [],
   "source": [
    "df_test_dmatrix = xgb.DMatrix(df_test.drop(columns='SK_ID_CURR'), enable_categorical=True)\n",
    "xgb_base_test_results = xgb_base_model.predict(df_test_dmatrix)"
   ]
  },
  {
   "cell_type": "markdown",
   "metadata": {
    "id": "i6LaUKjKm1kV",
    "pycharm": {
     "name": "#%% md\n"
    }
   },
   "source": [
    "What are the risk scores (from 0 to 1) of the first 5 customers in the test set? And what's the overall AUC on the test set?"
   ]
  },
  {
   "cell_type": "code",
   "execution_count": 35,
   "metadata": {
    "colab": {
     "base_uri": "https://localhost:8080/"
    },
    "executionInfo": {
     "elapsed": 428,
     "status": "ok",
     "timestamp": 1667664895173,
     "user": {
      "displayName": "Enrico De Siero",
      "userId": "13952448766742224982"
     },
     "user_tz": -60
    },
    "id": "VJmIFKY2m7fW",
    "outputId": "6ade48bd-b88b-437c-81dd-884bcd08834c",
    "pycharm": {
     "name": "#%%\n"
    }
   },
   "outputs": [
    {
     "data": {
      "text/plain": [
       "array([0.3985119 , 0.29209194, 0.779004  , 0.20188195, 0.4970246 ,\n",
       "       0.6709157 , 0.09907907, 0.07296119, 0.8493747 , 0.46019366,\n",
       "       0.11720185, 0.4292545 , 0.10346176, 0.42603463, 0.3213253 ,\n",
       "       0.29668108, 0.28509343, 0.3900165 , 0.3890925 , 0.2568347 ],\n",
       "      dtype=float32)"
      ]
     },
     "execution_count": 35,
     "metadata": {},
     "output_type": "execute_result"
    }
   ],
   "source": [
    "xgb_base_test_results[:20]"
   ]
  },
  {
   "cell_type": "code",
   "execution_count": 36,
   "metadata": {
    "colab": {
     "base_uri": "https://localhost:8080/"
    },
    "executionInfo": {
     "elapsed": 520,
     "status": "ok",
     "timestamp": 1667664897789,
     "user": {
      "displayName": "Enrico De Siero",
      "userId": "13952448766742224982"
     },
     "user_tz": -60
    },
    "id": "zJ358W3-XzBt",
    "outputId": "572d6bec-d9d1-4ffd-8021-b05a769def31",
    "pycharm": {
     "name": "#%%\n"
    }
   },
   "outputs": [
    {
     "data": {
      "text/plain": [
       "0.7534471659962801"
      ]
     },
     "execution_count": 36,
     "metadata": {},
     "output_type": "execute_result"
    }
   ],
   "source": [
    "fpr, tpr, thresholds = metrics.roc_curve(df_target_test, xgb_base_test_results, pos_label=1)\n",
    "metrics.auc(fpr, tpr)"
   ]
  },
  {
   "cell_type": "markdown",
   "metadata": {
    "id": "Ze0dwAgC5AcF",
    "pycharm": {
     "name": "#%% md\n"
    }
   },
   "source": [
    "The third customer has a higher risk score (0.796) than the others in the first 5 records.\n",
    "\n",
    "This simple model has an AUC on the test set around **0.754**, a decent baseline performance."
   ]
  },
  {
   "cell_type": "markdown",
   "metadata": {
    "id": "RZnNjOdu2zR9",
    "pycharm": {
     "name": "#%% md\n"
    }
   },
   "source": [
    "# **[#3] Evaluating feature importance**"
   ]
  },
  {
   "cell_type": "markdown",
   "metadata": {},
   "source": [
    "The Frequency (R)/Weight (python) is the percentage representing the relative number of times a particular feature occurs in the trees of the model."
   ]
  },
  {
   "cell_type": "code",
   "execution_count": 37,
   "metadata": {
    "colab": {
     "base_uri": "https://localhost:8080/",
     "height": 609
    },
    "executionInfo": {
     "elapsed": 997,
     "status": "ok",
     "timestamp": 1667665764324,
     "user": {
      "displayName": "Enrico De Siero",
      "userId": "13952448766742224982"
     },
     "user_tz": -60
    },
    "id": "uZvJLENflwm9",
    "outputId": "23c71c68-a231-4756-833b-aa7e9facb96a",
    "pycharm": {
     "name": "#%%\n"
    }
   },
   "outputs": [
    {
     "data": {
      "text/plain": [
       "<AxesSubplot:>"
      ]
     },
     "execution_count": 37,
     "metadata": {},
     "output_type": "execute_result"
    },
    {
     "data": {
      "image/png": "[encoded data removed]",
      "text/plain": [
       "<Figure size 1440x720 with 1 Axes>"
      ]
     },
     "metadata": {
      "needs_background": "light"
     },
     "output_type": "display_data"
    }
   ],
   "source": [
    "feature_important = xgb_base_model.get_score(importance_type='weight')\n",
    "keys = list(feature_important.keys())\n",
    "values = list(feature_important.values())\n",
    "\n",
    "data = pd.DataFrame(data=values, index=keys, columns=[\"score\"]).sort_values(by = \"score\", ascending=False)\n",
    "data.nlargest(40,columns=\"score\").plot(kind='bar', figsize = (20,10), legend=False, rot=45, color=\"darkred\") ## plot top 40 features\n"
   ]
  },
  {
   "cell_type": "markdown",
   "metadata": {},
   "source": [
    "The Gain implies the relative contribution of the corresponding feature to the model calculated by taking each feature’s contribution for each tree in the model. A higher value of this metric when compared to another feature implies it is more important for generating a prediction."
   ]
  },
  {
   "cell_type": "code",
   "execution_count": 38,
   "metadata": {
    "pycharm": {
     "name": "#%%\n"
    }
   },
   "outputs": [
    {
     "data": {
      "text/plain": [
       "<AxesSubplot:>"
      ]
     },
     "execution_count": 38,
     "metadata": {},
     "output_type": "execute_result"
    },
    {
     "data": {
      "image/png": "[encoded data removed]",
      "text/plain": [
       "<Figure size 1440x720 with 1 Axes>"
      ]
     },
     "metadata": {
      "needs_background": "light"
     },
     "output_type": "display_data"
    }
   ],
   "source": [
    "feature_important = xgb_base_model.get_score(importance_type='gain')\n",
    "keys = list(feature_important.keys())\n",
    "values = list(feature_important.values())\n",
    "\n",
    "data = pd.DataFrame(data=values, index=keys, columns=[\"score\"]).sort_values(by = \"score\", ascending=False)\n",
    "data.nlargest(40, columns=\"score\").plot(kind='barh', figsize = (20,10), legend=False) ## plot top 40 features\n",
    "#data[1].set_color('darkred')"
   ]
  },
  {
   "cell_type": "markdown",
   "metadata": {
    "pycharm": {
     "name": "#%% md\n"
    }
   },
   "source": [
    "# **[#4] Comparing the model predictions with respect to the original training data**"
   ]
  },
  {
   "cell_type": "code",
   "execution_count": 39,
   "metadata": {
    "id": "UThqlC0si8Ta",
    "pycharm": {
     "name": "#%%\n"
    }
   },
   "outputs": [],
   "source": [
    "df_test_dmatrix2 = xgb.DMatrix(df_test.drop(columns='SK_ID_CURR'), df_target_test, enable_categorical=True)\n",
    "param = {'max_depth':6,\n",
    "         'eta':.2,\n",
    "         'subsample':.9,\n",
    "         'colsample_bytree':.9,\n",
    "         'scale_pos_weight':10,\n",
    "         'objective':'binary:logistic',\n",
    "         'tree_method':'exact'}\n",
    "xgb_base_model2 = xgb.train(param, df_test_dmatrix2, num_boost_round=50)"
   ]
  },
  {
   "cell_type": "code",
   "execution_count": 40,
   "metadata": {
    "pycharm": {
     "name": "#%%\n"
    }
   },
   "outputs": [],
   "source": [
    "xgb_base_test_results2 = xgb_base_model2.predict(df_test_dmatrix2)"
   ]
  },
  {
   "cell_type": "code",
   "execution_count": 41,
   "metadata": {
    "pycharm": {
     "name": "#%%\n"
    }
   },
   "outputs": [
    {
     "data": {
      "text/plain": [
       "array([0.2864746 , 0.18844056, 0.7657154 , 0.16706036, 0.53806484,\n",
       "       0.6028539 , 0.0938714 , 0.11099046, 0.7847552 , 0.55750036,\n",
       "       0.18205549, 0.28396034, 0.12313753, 0.23037794, 0.0865855 ,\n",
       "       0.3478581 , 0.21454662, 0.5577164 , 0.48910514, 0.2837869 ],\n",
       "      dtype=float32)"
      ]
     },
     "execution_count": 41,
     "metadata": {},
     "output_type": "execute_result"
    }
   ],
   "source": [
    "xgb_base_test_results2[:20]"
   ]
  },
  {
   "cell_type": "code",
   "execution_count": 42,
   "metadata": {
    "pycharm": {
     "name": "#%%\n"
    }
   },
   "outputs": [
    {
     "data": {
      "text/plain": [
       "0.8645765004648728"
      ]
     },
     "execution_count": 42,
     "metadata": {},
     "output_type": "execute_result"
    }
   ],
   "source": [
    "fpr, tpr, thresholds = metrics.roc_curve(df_target_test, xgb_base_test_results2, pos_label=1)\n",
    "metrics.auc(fpr, tpr)"
   ]
  },
  {
   "cell_type": "code",
   "execution_count": 60,
   "metadata": {
    "pycharm": {
     "name": "#%%\n"
    }
   },
   "outputs": [
    {
     "data": {
      "text/plain": [
       "<AxesSubplot:>"
      ]
     },
     "execution_count": 60,
     "metadata": {},
     "output_type": "execute_result"
    },
    {
     "data": {
      "image/png": "[encoded data removed]",
      "text/plain": [
       "<Figure size 1440x720 with 1 Axes>"
      ]
     },
     "metadata": {
      "needs_background": "light"
     },
     "output_type": "display_data"
    }
   ],
   "source": [
    "feature_important2 = xgb_base_model2.get_score(importance_type='weight')\n",
    "keys = list(feature_important2.keys())\n",
    "values = list(feature_important2.values())\n",
    "\n",
    "data2 = pd.DataFrame(data=values, index=keys, columns=[\"score\"]).sort_values(by = \"score\", ascending=False)\n",
    "data2.nlargest(40, columns=\"score\").plot(kind='bar', figsize = (20,10), rot=45, color=\"darkgreen\", legend=False) ## plot top 40 features"
   ]
  },
  {
   "cell_type": "markdown",
   "metadata": {
    "id": "d6UW0C3SVSY8",
    "pycharm": {
     "name": "#%% md\n"
    }
   },
   "source": [
    "# **[#5] Comparison of a few cases, changing just 1 or 2 features**"
   ]
  },
  {
   "cell_type": "code",
   "execution_count": 44,
   "metadata": {
    "pycharm": {
     "name": "#%%\n"
    }
   },
   "outputs": [],
   "source": [
    "ap_train3 = pd.read_csv('application_train.csv',\n",
    "                        usecols=['TARGET', 'SK_ID_CURR', 'NAME_CONTRACT_TYPE', 'CODE_GENDER', 'FLAG_OWN_CAR',\n",
    "                                 'FLAG_OWN_REALTY', 'CNT_CHILDREN', 'AMT_INCOME_TOTAL', 'AMT_CREDIT', 'AMT_ANNUITY',\n",
    "                                 'AMT_GOODS_PRICE', 'NAME_TYPE_SUITE', 'NAME_INCOME_TYPE', 'NAME_EDUCATION_TYPE',\n",
    "                                 'OCCUPATION_TYPE',\n",
    "                                 'NAME_FAMILY_STATUS', 'NAME_HOUSING_TYPE', 'REGION_POPULATION_RELATIVE', 'DAYS_BIRTH',\n",
    "                                 'DAYS_EMPLOYED', 'DAYS_REGISTRATION', 'DAYS_ID_PUBLISH', 'OWN_CAR_AGE', 'EXT_SOURCE_1',\n",
    "                                 'EXT_SOURCE_2', 'EXT_SOURCE_3'])\n",
    "\n",
    "\n",
    "ap_train3['CODE_GENDER_M'] = np.select([ap_train3['CODE_GENDER'] == 'M', ap_train3['CODE_GENDER'] == 'F'], [1, 0], default=np.NaN)\n",
    "ap_train3['FLAG_OWN_CAR'] = np.where(ap_train3['FLAG_OWN_CAR'] == 'Y', 1, 0)\n",
    "ap_train3['FLAG_OWN_REALTY'] = np.where(ap_train3['FLAG_OWN_REALTY'] == 'Y', 1, 0)\n",
    "ap_train3['NAME_CONTRACT_TYPE'] = np.where(ap_train3['NAME_CONTRACT_TYPE'] == 'Y', 1, 0)\n",
    "\n",
    "ap_train3['AGE'] = -round(ap_train3['DAYS_BIRTH'] / 365)\n",
    "ap_train3.drop(columns='DAYS_BIRTH', inplace=True)\n",
    "\n",
    "ap_train3['NAME_EDUCATION_TYPE'] = np.random.permutation(ap_train3.NAME_EDUCATION_TYPE)\n",
    "ap_train3['OCCUPATION_TYPE'] = np.random.permutation(ap_train3.OCCUPATION_TYPE)\n",
    "ap_train3['AGE'] = np.random.permutation(ap_train3.AGE)\n",
    "\n",
    "ap_objects = list(ap_train3.select_dtypes(include=['object']).columns)\n",
    "ap_train3[ap_objects] = ap_train3[ap_objects].astype('category')\n",
    "ap_train_target3 = ap_train3.pop('TARGET')\n",
    "\n",
    "df_train3, df_test3, df_target_train3, df_target_test3 = train_test_split(\n",
    "    ap_train3, ap_train_target3, test_size=0.2, stratify=ap_train_target3, random_state=42)\n",
    "\n"
   ]
  },
  {
   "cell_type": "code",
   "execution_count": 45,
   "metadata": {
    "pycharm": {
     "name": "#%%\n"
    }
   },
   "outputs": [
    {
     "data": {
      "text/html": [
       "<div>\n",
       "<style scoped>\n",
       "    .dataframe tbody tr th:only-of-type {\n",
       "        vertical-align: middle;\n",
       "    }\n",
       "\n",
       "    .dataframe tbody tr th {\n",
       "        vertical-align: top;\n",
       "    }\n",
       "\n",
       "    .dataframe thead th {\n",
       "        text-align: right;\n",
       "    }\n",
       "</style>\n",
       "<table border=\"1\" class=\"dataframe\">\n",
       "  <thead>\n",
       "    <tr style=\"text-align: right;\">\n",
       "      <th></th>\n",
       "      <th>SK_ID_CURR</th>\n",
       "      <th>NAME_CONTRACT_TYPE</th>\n",
       "      <th>FLAG_OWN_CAR</th>\n",
       "      <th>FLAG_OWN_REALTY</th>\n",
       "      <th>CNT_CHILDREN</th>\n",
       "      <th>AMT_INCOME_TOTAL</th>\n",
       "      <th>AMT_CREDIT</th>\n",
       "      <th>AMT_ANNUITY</th>\n",
       "      <th>AMT_GOODS_PRICE</th>\n",
       "      <th>NAME_TYPE_SUITE</th>\n",
       "      <th>...</th>\n",
       "      <th>DAYS_EMPLOYED</th>\n",
       "      <th>DAYS_REGISTRATION</th>\n",
       "      <th>DAYS_ID_PUBLISH</th>\n",
       "      <th>OWN_CAR_AGE</th>\n",
       "      <th>OCCUPATION_TYPE</th>\n",
       "      <th>EXT_SOURCE_1</th>\n",
       "      <th>EXT_SOURCE_2</th>\n",
       "      <th>EXT_SOURCE_3</th>\n",
       "      <th>AGERANGE</th>\n",
       "      <th>CODE_GENDER_M</th>\n",
       "    </tr>\n",
       "  </thead>\n",
       "  <tbody>\n",
       "    <tr>\n",
       "      <th>0</th>\n",
       "      <td>100002</td>\n",
       "      <td>Cash loans</td>\n",
       "      <td>0</td>\n",
       "      <td>1</td>\n",
       "      <td>0</td>\n",
       "      <td>202500.0</td>\n",
       "      <td>406597.5</td>\n",
       "      <td>24700.5</td>\n",
       "      <td>351000.0</td>\n",
       "      <td>Unaccompanied</td>\n",
       "      <td>...</td>\n",
       "      <td>-637</td>\n",
       "      <td>-3648.0</td>\n",
       "      <td>-2120</td>\n",
       "      <td>NaN</td>\n",
       "      <td>Laborers</td>\n",
       "      <td>0.083037</td>\n",
       "      <td>0.262949</td>\n",
       "      <td>0.139376</td>\n",
       "      <td>20-31</td>\n",
       "      <td>1.0</td>\n",
       "    </tr>\n",
       "    <tr>\n",
       "      <th>1</th>\n",
       "      <td>100003</td>\n",
       "      <td>Cash loans</td>\n",
       "      <td>0</td>\n",
       "      <td>0</td>\n",
       "      <td>0</td>\n",
       "      <td>270000.0</td>\n",
       "      <td>1293502.5</td>\n",
       "      <td>35698.5</td>\n",
       "      <td>1129500.0</td>\n",
       "      <td>Family</td>\n",
       "      <td>...</td>\n",
       "      <td>-1188</td>\n",
       "      <td>-1186.0</td>\n",
       "      <td>-291</td>\n",
       "      <td>NaN</td>\n",
       "      <td>Core staff</td>\n",
       "      <td>0.311267</td>\n",
       "      <td>0.622246</td>\n",
       "      <td>NaN</td>\n",
       "      <td>42-53</td>\n",
       "      <td>0.0</td>\n",
       "    </tr>\n",
       "    <tr>\n",
       "      <th>2</th>\n",
       "      <td>100004</td>\n",
       "      <td>Revolving loans</td>\n",
       "      <td>1</td>\n",
       "      <td>1</td>\n",
       "      <td>0</td>\n",
       "      <td>67500.0</td>\n",
       "      <td>135000.0</td>\n",
       "      <td>6750.0</td>\n",
       "      <td>135000.0</td>\n",
       "      <td>Unaccompanied</td>\n",
       "      <td>...</td>\n",
       "      <td>-225</td>\n",
       "      <td>-4260.0</td>\n",
       "      <td>-2531</td>\n",
       "      <td>26.0</td>\n",
       "      <td>Laborers</td>\n",
       "      <td>NaN</td>\n",
       "      <td>0.555912</td>\n",
       "      <td>0.729567</td>\n",
       "      <td>42-53</td>\n",
       "      <td>1.0</td>\n",
       "    </tr>\n",
       "    <tr>\n",
       "      <th>3</th>\n",
       "      <td>100006</td>\n",
       "      <td>Cash loans</td>\n",
       "      <td>0</td>\n",
       "      <td>1</td>\n",
       "      <td>0</td>\n",
       "      <td>135000.0</td>\n",
       "      <td>312682.5</td>\n",
       "      <td>29686.5</td>\n",
       "      <td>297000.0</td>\n",
       "      <td>Unaccompanied</td>\n",
       "      <td>...</td>\n",
       "      <td>-3039</td>\n",
       "      <td>-9833.0</td>\n",
       "      <td>-2437</td>\n",
       "      <td>NaN</td>\n",
       "      <td>Laborers</td>\n",
       "      <td>NaN</td>\n",
       "      <td>0.650442</td>\n",
       "      <td>NaN</td>\n",
       "      <td>42-53</td>\n",
       "      <td>0.0</td>\n",
       "    </tr>\n",
       "    <tr>\n",
       "      <th>4</th>\n",
       "      <td>100007</td>\n",
       "      <td>Cash loans</td>\n",
       "      <td>0</td>\n",
       "      <td>1</td>\n",
       "      <td>0</td>\n",
       "      <td>121500.0</td>\n",
       "      <td>513000.0</td>\n",
       "      <td>21865.5</td>\n",
       "      <td>513000.0</td>\n",
       "      <td>Unaccompanied</td>\n",
       "      <td>...</td>\n",
       "      <td>-3038</td>\n",
       "      <td>-4311.0</td>\n",
       "      <td>-3458</td>\n",
       "      <td>NaN</td>\n",
       "      <td>Core staff</td>\n",
       "      <td>NaN</td>\n",
       "      <td>0.322738</td>\n",
       "      <td>NaN</td>\n",
       "      <td>53-64</td>\n",
       "      <td>1.0</td>\n",
       "    </tr>\n",
       "    <tr>\n",
       "      <th>...</th>\n",
       "      <td>...</td>\n",
       "      <td>...</td>\n",
       "      <td>...</td>\n",
       "      <td>...</td>\n",
       "      <td>...</td>\n",
       "      <td>...</td>\n",
       "      <td>...</td>\n",
       "      <td>...</td>\n",
       "      <td>...</td>\n",
       "      <td>...</td>\n",
       "      <td>...</td>\n",
       "      <td>...</td>\n",
       "      <td>...</td>\n",
       "      <td>...</td>\n",
       "      <td>...</td>\n",
       "      <td>...</td>\n",
       "      <td>...</td>\n",
       "      <td>...</td>\n",
       "      <td>...</td>\n",
       "      <td>...</td>\n",
       "      <td>...</td>\n",
       "    </tr>\n",
       "    <tr>\n",
       "      <th>307506</th>\n",
       "      <td>456251</td>\n",
       "      <td>Cash loans</td>\n",
       "      <td>0</td>\n",
       "      <td>0</td>\n",
       "      <td>0</td>\n",
       "      <td>157500.0</td>\n",
       "      <td>254700.0</td>\n",
       "      <td>27558.0</td>\n",
       "      <td>225000.0</td>\n",
       "      <td>Unaccompanied</td>\n",
       "      <td>...</td>\n",
       "      <td>-236</td>\n",
       "      <td>-8456.0</td>\n",
       "      <td>-1982</td>\n",
       "      <td>NaN</td>\n",
       "      <td>Sales staff</td>\n",
       "      <td>0.145570</td>\n",
       "      <td>0.681632</td>\n",
       "      <td>NaN</td>\n",
       "      <td>20-31</td>\n",
       "      <td>1.0</td>\n",
       "    </tr>\n",
       "    <tr>\n",
       "      <th>307507</th>\n",
       "      <td>456252</td>\n",
       "      <td>Cash loans</td>\n",
       "      <td>0</td>\n",
       "      <td>1</td>\n",
       "      <td>0</td>\n",
       "      <td>72000.0</td>\n",
       "      <td>269550.0</td>\n",
       "      <td>12001.5</td>\n",
       "      <td>225000.0</td>\n",
       "      <td>Unaccompanied</td>\n",
       "      <td>...</td>\n",
       "      <td>365243</td>\n",
       "      <td>-4388.0</td>\n",
       "      <td>-4090</td>\n",
       "      <td>NaN</td>\n",
       "      <td>NaN</td>\n",
       "      <td>NaN</td>\n",
       "      <td>0.115992</td>\n",
       "      <td>NaN</td>\n",
       "      <td>53-64</td>\n",
       "      <td>0.0</td>\n",
       "    </tr>\n",
       "    <tr>\n",
       "      <th>307508</th>\n",
       "      <td>456253</td>\n",
       "      <td>Cash loans</td>\n",
       "      <td>0</td>\n",
       "      <td>1</td>\n",
       "      <td>0</td>\n",
       "      <td>153000.0</td>\n",
       "      <td>677664.0</td>\n",
       "      <td>29979.0</td>\n",
       "      <td>585000.0</td>\n",
       "      <td>Unaccompanied</td>\n",
       "      <td>...</td>\n",
       "      <td>-7921</td>\n",
       "      <td>-6737.0</td>\n",
       "      <td>-5150</td>\n",
       "      <td>NaN</td>\n",
       "      <td>Managers</td>\n",
       "      <td>0.744026</td>\n",
       "      <td>0.535722</td>\n",
       "      <td>0.218859</td>\n",
       "      <td>31-42</td>\n",
       "      <td>0.0</td>\n",
       "    </tr>\n",
       "    <tr>\n",
       "      <th>307509</th>\n",
       "      <td>456254</td>\n",
       "      <td>Cash loans</td>\n",
       "      <td>0</td>\n",
       "      <td>1</td>\n",
       "      <td>0</td>\n",
       "      <td>171000.0</td>\n",
       "      <td>370107.0</td>\n",
       "      <td>20205.0</td>\n",
       "      <td>319500.0</td>\n",
       "      <td>Unaccompanied</td>\n",
       "      <td>...</td>\n",
       "      <td>-4786</td>\n",
       "      <td>-2562.0</td>\n",
       "      <td>-931</td>\n",
       "      <td>NaN</td>\n",
       "      <td>Laborers</td>\n",
       "      <td>NaN</td>\n",
       "      <td>0.514163</td>\n",
       "      <td>0.661024</td>\n",
       "      <td>31-42</td>\n",
       "      <td>0.0</td>\n",
       "    </tr>\n",
       "    <tr>\n",
       "      <th>307510</th>\n",
       "      <td>456255</td>\n",
       "      <td>Cash loans</td>\n",
       "      <td>0</td>\n",
       "      <td>0</td>\n",
       "      <td>0</td>\n",
       "      <td>157500.0</td>\n",
       "      <td>675000.0</td>\n",
       "      <td>49117.5</td>\n",
       "      <td>675000.0</td>\n",
       "      <td>Unaccompanied</td>\n",
       "      <td>...</td>\n",
       "      <td>-1262</td>\n",
       "      <td>-5128.0</td>\n",
       "      <td>-410</td>\n",
       "      <td>NaN</td>\n",
       "      <td>Laborers</td>\n",
       "      <td>0.734460</td>\n",
       "      <td>0.708569</td>\n",
       "      <td>0.113922</td>\n",
       "      <td>42-53</td>\n",
       "      <td>0.0</td>\n",
       "    </tr>\n",
       "  </tbody>\n",
       "</table>\n",
       "<p>307511 rows × 26 columns</p>\n",
       "</div>"
      ],
      "text/plain": [
       "        SK_ID_CURR NAME_CONTRACT_TYPE  FLAG_OWN_CAR  FLAG_OWN_REALTY  \\\n",
       "0           100002         Cash loans             0                1   \n",
       "1           100003         Cash loans             0                0   \n",
       "2           100004    Revolving loans             1                1   \n",
       "3           100006         Cash loans             0                1   \n",
       "4           100007         Cash loans             0                1   \n",
       "...            ...                ...           ...              ...   \n",
       "307506      456251         Cash loans             0                0   \n",
       "307507      456252         Cash loans             0                1   \n",
       "307508      456253         Cash loans             0                1   \n",
       "307509      456254         Cash loans             0                1   \n",
       "307510      456255         Cash loans             0                0   \n",
       "\n",
       "        CNT_CHILDREN  AMT_INCOME_TOTAL  AMT_CREDIT  AMT_ANNUITY  \\\n",
       "0                  0          202500.0    406597.5      24700.5   \n",
       "1                  0          270000.0   1293502.5      35698.5   \n",
       "2                  0           67500.0    135000.0       6750.0   \n",
       "3                  0          135000.0    312682.5      29686.5   \n",
       "4                  0          121500.0    513000.0      21865.5   \n",
       "...              ...               ...         ...          ...   \n",
       "307506             0          157500.0    254700.0      27558.0   \n",
       "307507             0           72000.0    269550.0      12001.5   \n",
       "307508             0          153000.0    677664.0      29979.0   \n",
       "307509             0          171000.0    370107.0      20205.0   \n",
       "307510             0          157500.0    675000.0      49117.5   \n",
       "\n",
       "        AMT_GOODS_PRICE NAME_TYPE_SUITE  ... DAYS_EMPLOYED DAYS_REGISTRATION  \\\n",
       "0              351000.0   Unaccompanied  ...          -637           -3648.0   \n",
       "1             1129500.0          Family  ...         -1188           -1186.0   \n",
       "2              135000.0   Unaccompanied  ...          -225           -4260.0   \n",
       "3              297000.0   Unaccompanied  ...         -3039           -9833.0   \n",
       "4              513000.0   Unaccompanied  ...         -3038           -4311.0   \n",
       "...                 ...             ...  ...           ...               ...   \n",
       "307506         225000.0   Unaccompanied  ...          -236           -8456.0   \n",
       "307507         225000.0   Unaccompanied  ...        365243           -4388.0   \n",
       "307508         585000.0   Unaccompanied  ...         -7921           -6737.0   \n",
       "307509         319500.0   Unaccompanied  ...         -4786           -2562.0   \n",
       "307510         675000.0   Unaccompanied  ...         -1262           -5128.0   \n",
       "\n",
       "       DAYS_ID_PUBLISH OWN_CAR_AGE  OCCUPATION_TYPE  EXT_SOURCE_1  \\\n",
       "0                -2120         NaN         Laborers      0.083037   \n",
       "1                 -291         NaN       Core staff      0.311267   \n",
       "2                -2531        26.0         Laborers           NaN   \n",
       "3                -2437         NaN         Laborers           NaN   \n",
       "4                -3458         NaN       Core staff           NaN   \n",
       "...                ...         ...              ...           ...   \n",
       "307506           -1982         NaN      Sales staff      0.145570   \n",
       "307507           -4090         NaN              NaN           NaN   \n",
       "307508           -5150         NaN         Managers      0.744026   \n",
       "307509            -931         NaN         Laborers           NaN   \n",
       "307510            -410         NaN         Laborers      0.734460   \n",
       "\n",
       "        EXT_SOURCE_2  EXT_SOURCE_3  AGERANGE  CODE_GENDER_M  \n",
       "0           0.262949      0.139376     20-31            1.0  \n",
       "1           0.622246           NaN     42-53            0.0  \n",
       "2           0.555912      0.729567     42-53            1.0  \n",
       "3           0.650442           NaN     42-53            0.0  \n",
       "4           0.322738           NaN     53-64            1.0  \n",
       "...              ...           ...       ...            ...  \n",
       "307506      0.681632           NaN     20-31            1.0  \n",
       "307507      0.115992           NaN     53-64            0.0  \n",
       "307508      0.535722      0.218859     31-42            0.0  \n",
       "307509      0.514163      0.661024     31-42            0.0  \n",
       "307510      0.708569      0.113922     42-53            0.0  \n",
       "\n",
       "[307511 rows x 26 columns]"
      ]
     },
     "execution_count": 45,
     "metadata": {},
     "output_type": "execute_result"
    }
   ],
   "source": [
    "ap_train"
   ]
  },
  {
   "cell_type": "code",
   "execution_count": 46,
   "metadata": {
    "pycharm": {
     "name": "#%%\n"
    }
   },
   "outputs": [
    {
     "data": {
      "text/html": [
       "<div>\n",
       "<style scoped>\n",
       "    .dataframe tbody tr th:only-of-type {\n",
       "        vertical-align: middle;\n",
       "    }\n",
       "\n",
       "    .dataframe tbody tr th {\n",
       "        vertical-align: top;\n",
       "    }\n",
       "\n",
       "    .dataframe thead th {\n",
       "        text-align: right;\n",
       "    }\n",
       "</style>\n",
       "<table border=\"1\" class=\"dataframe\">\n",
       "  <thead>\n",
       "    <tr style=\"text-align: right;\">\n",
       "      <th></th>\n",
       "      <th>SK_ID_CURR</th>\n",
       "      <th>NAME_CONTRACT_TYPE</th>\n",
       "      <th>CODE_GENDER</th>\n",
       "      <th>FLAG_OWN_CAR</th>\n",
       "      <th>FLAG_OWN_REALTY</th>\n",
       "      <th>CNT_CHILDREN</th>\n",
       "      <th>AMT_INCOME_TOTAL</th>\n",
       "      <th>AMT_CREDIT</th>\n",
       "      <th>AMT_ANNUITY</th>\n",
       "      <th>AMT_GOODS_PRICE</th>\n",
       "      <th>...</th>\n",
       "      <th>DAYS_EMPLOYED</th>\n",
       "      <th>DAYS_REGISTRATION</th>\n",
       "      <th>DAYS_ID_PUBLISH</th>\n",
       "      <th>OWN_CAR_AGE</th>\n",
       "      <th>OCCUPATION_TYPE</th>\n",
       "      <th>EXT_SOURCE_1</th>\n",
       "      <th>EXT_SOURCE_2</th>\n",
       "      <th>EXT_SOURCE_3</th>\n",
       "      <th>CODE_GENDER_M</th>\n",
       "      <th>AGE</th>\n",
       "    </tr>\n",
       "  </thead>\n",
       "  <tbody>\n",
       "    <tr>\n",
       "      <th>0</th>\n",
       "      <td>100002</td>\n",
       "      <td>0</td>\n",
       "      <td>M</td>\n",
       "      <td>0</td>\n",
       "      <td>1</td>\n",
       "      <td>0</td>\n",
       "      <td>202500.0</td>\n",
       "      <td>406597.5</td>\n",
       "      <td>24700.5</td>\n",
       "      <td>351000.0</td>\n",
       "      <td>...</td>\n",
       "      <td>-637</td>\n",
       "      <td>-3648.0</td>\n",
       "      <td>-2120</td>\n",
       "      <td>NaN</td>\n",
       "      <td>NaN</td>\n",
       "      <td>0.083037</td>\n",
       "      <td>0.262949</td>\n",
       "      <td>0.139376</td>\n",
       "      <td>1.0</td>\n",
       "      <td>65.0</td>\n",
       "    </tr>\n",
       "    <tr>\n",
       "      <th>1</th>\n",
       "      <td>100003</td>\n",
       "      <td>0</td>\n",
       "      <td>F</td>\n",
       "      <td>0</td>\n",
       "      <td>0</td>\n",
       "      <td>0</td>\n",
       "      <td>270000.0</td>\n",
       "      <td>1293502.5</td>\n",
       "      <td>35698.5</td>\n",
       "      <td>1129500.0</td>\n",
       "      <td>...</td>\n",
       "      <td>-1188</td>\n",
       "      <td>-1186.0</td>\n",
       "      <td>-291</td>\n",
       "      <td>NaN</td>\n",
       "      <td>Managers</td>\n",
       "      <td>0.311267</td>\n",
       "      <td>0.622246</td>\n",
       "      <td>NaN</td>\n",
       "      <td>0.0</td>\n",
       "      <td>41.0</td>\n",
       "    </tr>\n",
       "    <tr>\n",
       "      <th>2</th>\n",
       "      <td>100004</td>\n",
       "      <td>0</td>\n",
       "      <td>M</td>\n",
       "      <td>1</td>\n",
       "      <td>1</td>\n",
       "      <td>0</td>\n",
       "      <td>67500.0</td>\n",
       "      <td>135000.0</td>\n",
       "      <td>6750.0</td>\n",
       "      <td>135000.0</td>\n",
       "      <td>...</td>\n",
       "      <td>-225</td>\n",
       "      <td>-4260.0</td>\n",
       "      <td>-2531</td>\n",
       "      <td>26.0</td>\n",
       "      <td>Laborers</td>\n",
       "      <td>NaN</td>\n",
       "      <td>0.555912</td>\n",
       "      <td>0.729567</td>\n",
       "      <td>1.0</td>\n",
       "      <td>37.0</td>\n",
       "    </tr>\n",
       "    <tr>\n",
       "      <th>3</th>\n",
       "      <td>100006</td>\n",
       "      <td>0</td>\n",
       "      <td>F</td>\n",
       "      <td>0</td>\n",
       "      <td>1</td>\n",
       "      <td>0</td>\n",
       "      <td>135000.0</td>\n",
       "      <td>312682.5</td>\n",
       "      <td>29686.5</td>\n",
       "      <td>297000.0</td>\n",
       "      <td>...</td>\n",
       "      <td>-3039</td>\n",
       "      <td>-9833.0</td>\n",
       "      <td>-2437</td>\n",
       "      <td>NaN</td>\n",
       "      <td>Managers</td>\n",
       "      <td>NaN</td>\n",
       "      <td>0.650442</td>\n",
       "      <td>NaN</td>\n",
       "      <td>0.0</td>\n",
       "      <td>39.0</td>\n",
       "    </tr>\n",
       "    <tr>\n",
       "      <th>4</th>\n",
       "      <td>100007</td>\n",
       "      <td>0</td>\n",
       "      <td>M</td>\n",
       "      <td>0</td>\n",
       "      <td>1</td>\n",
       "      <td>0</td>\n",
       "      <td>121500.0</td>\n",
       "      <td>513000.0</td>\n",
       "      <td>21865.5</td>\n",
       "      <td>513000.0</td>\n",
       "      <td>...</td>\n",
       "      <td>-3038</td>\n",
       "      <td>-4311.0</td>\n",
       "      <td>-3458</td>\n",
       "      <td>NaN</td>\n",
       "      <td>Drivers</td>\n",
       "      <td>NaN</td>\n",
       "      <td>0.322738</td>\n",
       "      <td>NaN</td>\n",
       "      <td>1.0</td>\n",
       "      <td>28.0</td>\n",
       "    </tr>\n",
       "    <tr>\n",
       "      <th>...</th>\n",
       "      <td>...</td>\n",
       "      <td>...</td>\n",
       "      <td>...</td>\n",
       "      <td>...</td>\n",
       "      <td>...</td>\n",
       "      <td>...</td>\n",
       "      <td>...</td>\n",
       "      <td>...</td>\n",
       "      <td>...</td>\n",
       "      <td>...</td>\n",
       "      <td>...</td>\n",
       "      <td>...</td>\n",
       "      <td>...</td>\n",
       "      <td>...</td>\n",
       "      <td>...</td>\n",
       "      <td>...</td>\n",
       "      <td>...</td>\n",
       "      <td>...</td>\n",
       "      <td>...</td>\n",
       "      <td>...</td>\n",
       "      <td>...</td>\n",
       "    </tr>\n",
       "    <tr>\n",
       "      <th>307506</th>\n",
       "      <td>456251</td>\n",
       "      <td>0</td>\n",
       "      <td>M</td>\n",
       "      <td>0</td>\n",
       "      <td>0</td>\n",
       "      <td>0</td>\n",
       "      <td>157500.0</td>\n",
       "      <td>254700.0</td>\n",
       "      <td>27558.0</td>\n",
       "      <td>225000.0</td>\n",
       "      <td>...</td>\n",
       "      <td>-236</td>\n",
       "      <td>-8456.0</td>\n",
       "      <td>-1982</td>\n",
       "      <td>NaN</td>\n",
       "      <td>NaN</td>\n",
       "      <td>0.145570</td>\n",
       "      <td>0.681632</td>\n",
       "      <td>NaN</td>\n",
       "      <td>1.0</td>\n",
       "      <td>50.0</td>\n",
       "    </tr>\n",
       "    <tr>\n",
       "      <th>307507</th>\n",
       "      <td>456252</td>\n",
       "      <td>0</td>\n",
       "      <td>F</td>\n",
       "      <td>0</td>\n",
       "      <td>1</td>\n",
       "      <td>0</td>\n",
       "      <td>72000.0</td>\n",
       "      <td>269550.0</td>\n",
       "      <td>12001.5</td>\n",
       "      <td>225000.0</td>\n",
       "      <td>...</td>\n",
       "      <td>365243</td>\n",
       "      <td>-4388.0</td>\n",
       "      <td>-4090</td>\n",
       "      <td>NaN</td>\n",
       "      <td>Laborers</td>\n",
       "      <td>NaN</td>\n",
       "      <td>0.115992</td>\n",
       "      <td>NaN</td>\n",
       "      <td>0.0</td>\n",
       "      <td>47.0</td>\n",
       "    </tr>\n",
       "    <tr>\n",
       "      <th>307508</th>\n",
       "      <td>456253</td>\n",
       "      <td>0</td>\n",
       "      <td>F</td>\n",
       "      <td>0</td>\n",
       "      <td>1</td>\n",
       "      <td>0</td>\n",
       "      <td>153000.0</td>\n",
       "      <td>677664.0</td>\n",
       "      <td>29979.0</td>\n",
       "      <td>585000.0</td>\n",
       "      <td>...</td>\n",
       "      <td>-7921</td>\n",
       "      <td>-6737.0</td>\n",
       "      <td>-5150</td>\n",
       "      <td>NaN</td>\n",
       "      <td>Sales staff</td>\n",
       "      <td>0.744026</td>\n",
       "      <td>0.535722</td>\n",
       "      <td>0.218859</td>\n",
       "      <td>0.0</td>\n",
       "      <td>59.0</td>\n",
       "    </tr>\n",
       "    <tr>\n",
       "      <th>307509</th>\n",
       "      <td>456254</td>\n",
       "      <td>0</td>\n",
       "      <td>F</td>\n",
       "      <td>0</td>\n",
       "      <td>1</td>\n",
       "      <td>0</td>\n",
       "      <td>171000.0</td>\n",
       "      <td>370107.0</td>\n",
       "      <td>20205.0</td>\n",
       "      <td>319500.0</td>\n",
       "      <td>...</td>\n",
       "      <td>-4786</td>\n",
       "      <td>-2562.0</td>\n",
       "      <td>-931</td>\n",
       "      <td>NaN</td>\n",
       "      <td>NaN</td>\n",
       "      <td>NaN</td>\n",
       "      <td>0.514163</td>\n",
       "      <td>0.661024</td>\n",
       "      <td>0.0</td>\n",
       "      <td>30.0</td>\n",
       "    </tr>\n",
       "    <tr>\n",
       "      <th>307510</th>\n",
       "      <td>456255</td>\n",
       "      <td>0</td>\n",
       "      <td>F</td>\n",
       "      <td>0</td>\n",
       "      <td>0</td>\n",
       "      <td>0</td>\n",
       "      <td>157500.0</td>\n",
       "      <td>675000.0</td>\n",
       "      <td>49117.5</td>\n",
       "      <td>675000.0</td>\n",
       "      <td>...</td>\n",
       "      <td>-1262</td>\n",
       "      <td>-5128.0</td>\n",
       "      <td>-410</td>\n",
       "      <td>NaN</td>\n",
       "      <td>Laborers</td>\n",
       "      <td>0.734460</td>\n",
       "      <td>0.708569</td>\n",
       "      <td>0.113922</td>\n",
       "      <td>0.0</td>\n",
       "      <td>59.0</td>\n",
       "    </tr>\n",
       "  </tbody>\n",
       "</table>\n",
       "<p>307511 rows × 26 columns</p>\n",
       "</div>"
      ],
      "text/plain": [
       "        SK_ID_CURR  NAME_CONTRACT_TYPE CODE_GENDER  FLAG_OWN_CAR  \\\n",
       "0           100002                   0           M             0   \n",
       "1           100003                   0           F             0   \n",
       "2           100004                   0           M             1   \n",
       "3           100006                   0           F             0   \n",
       "4           100007                   0           M             0   \n",
       "...            ...                 ...         ...           ...   \n",
       "307506      456251                   0           M             0   \n",
       "307507      456252                   0           F             0   \n",
       "307508      456253                   0           F             0   \n",
       "307509      456254                   0           F             0   \n",
       "307510      456255                   0           F             0   \n",
       "\n",
       "        FLAG_OWN_REALTY  CNT_CHILDREN  AMT_INCOME_TOTAL  AMT_CREDIT  \\\n",
       "0                     1             0          202500.0    406597.5   \n",
       "1                     0             0          270000.0   1293502.5   \n",
       "2                     1             0           67500.0    135000.0   \n",
       "3                     1             0          135000.0    312682.5   \n",
       "4                     1             0          121500.0    513000.0   \n",
       "...                 ...           ...               ...         ...   \n",
       "307506                0             0          157500.0    254700.0   \n",
       "307507                1             0           72000.0    269550.0   \n",
       "307508                1             0          153000.0    677664.0   \n",
       "307509                1             0          171000.0    370107.0   \n",
       "307510                0             0          157500.0    675000.0   \n",
       "\n",
       "        AMT_ANNUITY  AMT_GOODS_PRICE  ... DAYS_EMPLOYED DAYS_REGISTRATION  \\\n",
       "0           24700.5         351000.0  ...          -637           -3648.0   \n",
       "1           35698.5        1129500.0  ...         -1188           -1186.0   \n",
       "2            6750.0         135000.0  ...          -225           -4260.0   \n",
       "3           29686.5         297000.0  ...         -3039           -9833.0   \n",
       "4           21865.5         513000.0  ...         -3038           -4311.0   \n",
       "...             ...              ...  ...           ...               ...   \n",
       "307506      27558.0         225000.0  ...          -236           -8456.0   \n",
       "307507      12001.5         225000.0  ...        365243           -4388.0   \n",
       "307508      29979.0         585000.0  ...         -7921           -6737.0   \n",
       "307509      20205.0         319500.0  ...         -4786           -2562.0   \n",
       "307510      49117.5         675000.0  ...         -1262           -5128.0   \n",
       "\n",
       "       DAYS_ID_PUBLISH OWN_CAR_AGE OCCUPATION_TYPE  EXT_SOURCE_1  \\\n",
       "0                -2120         NaN             NaN      0.083037   \n",
       "1                 -291         NaN        Managers      0.311267   \n",
       "2                -2531        26.0        Laborers           NaN   \n",
       "3                -2437         NaN        Managers           NaN   \n",
       "4                -3458         NaN         Drivers           NaN   \n",
       "...                ...         ...             ...           ...   \n",
       "307506           -1982         NaN             NaN      0.145570   \n",
       "307507           -4090         NaN        Laborers           NaN   \n",
       "307508           -5150         NaN     Sales staff      0.744026   \n",
       "307509            -931         NaN             NaN           NaN   \n",
       "307510            -410         NaN        Laborers      0.734460   \n",
       "\n",
       "        EXT_SOURCE_2  EXT_SOURCE_3  CODE_GENDER_M   AGE  \n",
       "0           0.262949      0.139376            1.0  65.0  \n",
       "1           0.622246           NaN            0.0  41.0  \n",
       "2           0.555912      0.729567            1.0  37.0  \n",
       "3           0.650442           NaN            0.0  39.0  \n",
       "4           0.322738           NaN            1.0  28.0  \n",
       "...              ...           ...            ...   ...  \n",
       "307506      0.681632           NaN            1.0  50.0  \n",
       "307507      0.115992           NaN            0.0  47.0  \n",
       "307508      0.535722      0.218859            0.0  59.0  \n",
       "307509      0.514163      0.661024            0.0  30.0  \n",
       "307510      0.708569      0.113922            0.0  59.0  \n",
       "\n",
       "[307511 rows x 26 columns]"
      ]
     },
     "execution_count": 46,
     "metadata": {},
     "output_type": "execute_result"
    }
   ],
   "source": [
    "ap_train3"
   ]
  },
  {
   "cell_type": "code",
   "execution_count": 47,
   "metadata": {
    "pycharm": {
     "name": "#%%\n"
    }
   },
   "outputs": [],
   "source": [
    "df_train_dmatrix2 = xgb.DMatrix(df_train3.drop(columns='SK_ID_CURR'), df_target_train3, enable_categorical=True)\n",
    "\n",
    "param = {'max_depth': 6,\n",
    "         'eta': .2,\n",
    "         'subsample': .9,\n",
    "         'colsample_bytree': .9,\n",
    "         'scale_pos_weight': 10,\n",
    "         'objective': 'binary:logistic',\n",
    "         'tree_method': 'exact'}\n",
    "xgb_base_model2 = xgb.train(param, df_train_dmatrix2, num_boost_round=50)\n",
    "df_test_dmatrix2 = xgb.DMatrix(df_test3.drop(columns='SK_ID_CURR'), enable_categorical=True)"
   ]
  },
  {
   "cell_type": "code",
   "execution_count": 48,
   "metadata": {
    "pycharm": {
     "name": "#%%\n"
    }
   },
   "outputs": [
    {
     "data": {
      "text/plain": [
       "array([0.4638713 , 0.2083001 , 0.8484292 , 0.5065742 , 0.5066331 ,\n",
       "       0.6033848 , 0.12354959, 0.11887005, 0.804513  , 0.35057688,\n",
       "       0.09396417, 0.6352472 , 0.14985982, 0.32677504, 0.24857509,\n",
       "       0.33484855, 0.354615  , 0.5193323 , 0.44953033, 0.19051628],\n",
       "      dtype=float32)"
      ]
     },
     "execution_count": 48,
     "metadata": {},
     "output_type": "execute_result"
    }
   ],
   "source": [
    "xgb_base_test_results2 = xgb_base_model2.predict(df_test_dmatrix2)\n",
    "xgb_base_test_results2[:20]"
   ]
  },
  {
   "cell_type": "code",
   "execution_count": 49,
   "metadata": {
    "pycharm": {
     "name": "#%%\n"
    }
   },
   "outputs": [
    {
     "data": {
      "text/plain": [
       "0.7488850390242754"
      ]
     },
     "execution_count": 49,
     "metadata": {},
     "output_type": "execute_result"
    }
   ],
   "source": [
    "# index 0 no, 4 si, index 6 no(0,14),\n",
    "fpr, tpr, thresholds = metrics.roc_curve(df_target_test3, xgb_base_test_results2, pos_label=1)\n",
    "metrics.auc(fpr, tpr)"
   ]
  },
  {
   "cell_type": "code",
   "execution_count": 50,
   "metadata": {
    "pycharm": {
     "name": "#%%\n"
    }
   },
   "outputs": [
    {
     "data": {
      "text/html": [
       "<div>\n",
       "<style scoped>\n",
       "    .dataframe tbody tr th:only-of-type {\n",
       "        vertical-align: middle;\n",
       "    }\n",
       "\n",
       "    .dataframe tbody tr th {\n",
       "        vertical-align: top;\n",
       "    }\n",
       "\n",
       "    .dataframe thead th {\n",
       "        text-align: right;\n",
       "    }\n",
       "</style>\n",
       "<table border=\"1\" class=\"dataframe\">\n",
       "  <thead>\n",
       "    <tr style=\"text-align: right;\">\n",
       "      <th></th>\n",
       "      <th>SK_ID_CURR</th>\n",
       "      <th>NAME_CONTRACT_TYPE</th>\n",
       "      <th>FLAG_OWN_CAR</th>\n",
       "      <th>FLAG_OWN_REALTY</th>\n",
       "      <th>CNT_CHILDREN</th>\n",
       "      <th>AMT_INCOME_TOTAL</th>\n",
       "      <th>AMT_CREDIT</th>\n",
       "      <th>AMT_ANNUITY</th>\n",
       "      <th>AMT_GOODS_PRICE</th>\n",
       "      <th>NAME_TYPE_SUITE</th>\n",
       "      <th>...</th>\n",
       "      <th>DAYS_EMPLOYED</th>\n",
       "      <th>DAYS_REGISTRATION</th>\n",
       "      <th>DAYS_ID_PUBLISH</th>\n",
       "      <th>OWN_CAR_AGE</th>\n",
       "      <th>OCCUPATION_TYPE</th>\n",
       "      <th>EXT_SOURCE_1</th>\n",
       "      <th>EXT_SOURCE_2</th>\n",
       "      <th>EXT_SOURCE_3</th>\n",
       "      <th>AGERANGE</th>\n",
       "      <th>CODE_GENDER_M</th>\n",
       "    </tr>\n",
       "  </thead>\n",
       "  <tbody>\n",
       "    <tr>\n",
       "      <th>0</th>\n",
       "      <td>100002</td>\n",
       "      <td>Cash loans</td>\n",
       "      <td>0</td>\n",
       "      <td>1</td>\n",
       "      <td>0</td>\n",
       "      <td>202500.0</td>\n",
       "      <td>406597.5</td>\n",
       "      <td>24700.5</td>\n",
       "      <td>351000.0</td>\n",
       "      <td>Unaccompanied</td>\n",
       "      <td>...</td>\n",
       "      <td>-637</td>\n",
       "      <td>-3648.0</td>\n",
       "      <td>-2120</td>\n",
       "      <td>NaN</td>\n",
       "      <td>Laborers</td>\n",
       "      <td>0.083037</td>\n",
       "      <td>0.262949</td>\n",
       "      <td>0.139376</td>\n",
       "      <td>20-31</td>\n",
       "      <td>1.0</td>\n",
       "    </tr>\n",
       "    <tr>\n",
       "      <th>1</th>\n",
       "      <td>100003</td>\n",
       "      <td>Cash loans</td>\n",
       "      <td>0</td>\n",
       "      <td>0</td>\n",
       "      <td>0</td>\n",
       "      <td>270000.0</td>\n",
       "      <td>1293502.5</td>\n",
       "      <td>35698.5</td>\n",
       "      <td>1129500.0</td>\n",
       "      <td>Family</td>\n",
       "      <td>...</td>\n",
       "      <td>-1188</td>\n",
       "      <td>-1186.0</td>\n",
       "      <td>-291</td>\n",
       "      <td>NaN</td>\n",
       "      <td>Core staff</td>\n",
       "      <td>0.311267</td>\n",
       "      <td>0.622246</td>\n",
       "      <td>NaN</td>\n",
       "      <td>42-53</td>\n",
       "      <td>0.0</td>\n",
       "    </tr>\n",
       "    <tr>\n",
       "      <th>2</th>\n",
       "      <td>100004</td>\n",
       "      <td>Revolving loans</td>\n",
       "      <td>1</td>\n",
       "      <td>1</td>\n",
       "      <td>0</td>\n",
       "      <td>67500.0</td>\n",
       "      <td>135000.0</td>\n",
       "      <td>6750.0</td>\n",
       "      <td>135000.0</td>\n",
       "      <td>Unaccompanied</td>\n",
       "      <td>...</td>\n",
       "      <td>-225</td>\n",
       "      <td>-4260.0</td>\n",
       "      <td>-2531</td>\n",
       "      <td>26.0</td>\n",
       "      <td>Laborers</td>\n",
       "      <td>NaN</td>\n",
       "      <td>0.555912</td>\n",
       "      <td>0.729567</td>\n",
       "      <td>42-53</td>\n",
       "      <td>1.0</td>\n",
       "    </tr>\n",
       "    <tr>\n",
       "      <th>3</th>\n",
       "      <td>100006</td>\n",
       "      <td>Cash loans</td>\n",
       "      <td>0</td>\n",
       "      <td>1</td>\n",
       "      <td>0</td>\n",
       "      <td>135000.0</td>\n",
       "      <td>312682.5</td>\n",
       "      <td>29686.5</td>\n",
       "      <td>297000.0</td>\n",
       "      <td>Unaccompanied</td>\n",
       "      <td>...</td>\n",
       "      <td>-3039</td>\n",
       "      <td>-9833.0</td>\n",
       "      <td>-2437</td>\n",
       "      <td>NaN</td>\n",
       "      <td>Laborers</td>\n",
       "      <td>NaN</td>\n",
       "      <td>0.650442</td>\n",
       "      <td>NaN</td>\n",
       "      <td>42-53</td>\n",
       "      <td>0.0</td>\n",
       "    </tr>\n",
       "    <tr>\n",
       "      <th>4</th>\n",
       "      <td>100007</td>\n",
       "      <td>Cash loans</td>\n",
       "      <td>0</td>\n",
       "      <td>1</td>\n",
       "      <td>0</td>\n",
       "      <td>121500.0</td>\n",
       "      <td>513000.0</td>\n",
       "      <td>21865.5</td>\n",
       "      <td>513000.0</td>\n",
       "      <td>Unaccompanied</td>\n",
       "      <td>...</td>\n",
       "      <td>-3038</td>\n",
       "      <td>-4311.0</td>\n",
       "      <td>-3458</td>\n",
       "      <td>NaN</td>\n",
       "      <td>Core staff</td>\n",
       "      <td>NaN</td>\n",
       "      <td>0.322738</td>\n",
       "      <td>NaN</td>\n",
       "      <td>53-64</td>\n",
       "      <td>1.0</td>\n",
       "    </tr>\n",
       "    <tr>\n",
       "      <th>...</th>\n",
       "      <td>...</td>\n",
       "      <td>...</td>\n",
       "      <td>...</td>\n",
       "      <td>...</td>\n",
       "      <td>...</td>\n",
       "      <td>...</td>\n",
       "      <td>...</td>\n",
       "      <td>...</td>\n",
       "      <td>...</td>\n",
       "      <td>...</td>\n",
       "      <td>...</td>\n",
       "      <td>...</td>\n",
       "      <td>...</td>\n",
       "      <td>...</td>\n",
       "      <td>...</td>\n",
       "      <td>...</td>\n",
       "      <td>...</td>\n",
       "      <td>...</td>\n",
       "      <td>...</td>\n",
       "      <td>...</td>\n",
       "      <td>...</td>\n",
       "    </tr>\n",
       "    <tr>\n",
       "      <th>307506</th>\n",
       "      <td>456251</td>\n",
       "      <td>Cash loans</td>\n",
       "      <td>0</td>\n",
       "      <td>0</td>\n",
       "      <td>0</td>\n",
       "      <td>157500.0</td>\n",
       "      <td>254700.0</td>\n",
       "      <td>27558.0</td>\n",
       "      <td>225000.0</td>\n",
       "      <td>Unaccompanied</td>\n",
       "      <td>...</td>\n",
       "      <td>-236</td>\n",
       "      <td>-8456.0</td>\n",
       "      <td>-1982</td>\n",
       "      <td>NaN</td>\n",
       "      <td>Sales staff</td>\n",
       "      <td>0.145570</td>\n",
       "      <td>0.681632</td>\n",
       "      <td>NaN</td>\n",
       "      <td>20-31</td>\n",
       "      <td>1.0</td>\n",
       "    </tr>\n",
       "    <tr>\n",
       "      <th>307507</th>\n",
       "      <td>456252</td>\n",
       "      <td>Cash loans</td>\n",
       "      <td>0</td>\n",
       "      <td>1</td>\n",
       "      <td>0</td>\n",
       "      <td>72000.0</td>\n",
       "      <td>269550.0</td>\n",
       "      <td>12001.5</td>\n",
       "      <td>225000.0</td>\n",
       "      <td>Unaccompanied</td>\n",
       "      <td>...</td>\n",
       "      <td>365243</td>\n",
       "      <td>-4388.0</td>\n",
       "      <td>-4090</td>\n",
       "      <td>NaN</td>\n",
       "      <td>NaN</td>\n",
       "      <td>NaN</td>\n",
       "      <td>0.115992</td>\n",
       "      <td>NaN</td>\n",
       "      <td>53-64</td>\n",
       "      <td>0.0</td>\n",
       "    </tr>\n",
       "    <tr>\n",
       "      <th>307508</th>\n",
       "      <td>456253</td>\n",
       "      <td>Cash loans</td>\n",
       "      <td>0</td>\n",
       "      <td>1</td>\n",
       "      <td>0</td>\n",
       "      <td>153000.0</td>\n",
       "      <td>677664.0</td>\n",
       "      <td>29979.0</td>\n",
       "      <td>585000.0</td>\n",
       "      <td>Unaccompanied</td>\n",
       "      <td>...</td>\n",
       "      <td>-7921</td>\n",
       "      <td>-6737.0</td>\n",
       "      <td>-5150</td>\n",
       "      <td>NaN</td>\n",
       "      <td>Managers</td>\n",
       "      <td>0.744026</td>\n",
       "      <td>0.535722</td>\n",
       "      <td>0.218859</td>\n",
       "      <td>31-42</td>\n",
       "      <td>0.0</td>\n",
       "    </tr>\n",
       "    <tr>\n",
       "      <th>307509</th>\n",
       "      <td>456254</td>\n",
       "      <td>Cash loans</td>\n",
       "      <td>0</td>\n",
       "      <td>1</td>\n",
       "      <td>0</td>\n",
       "      <td>171000.0</td>\n",
       "      <td>370107.0</td>\n",
       "      <td>20205.0</td>\n",
       "      <td>319500.0</td>\n",
       "      <td>Unaccompanied</td>\n",
       "      <td>...</td>\n",
       "      <td>-4786</td>\n",
       "      <td>-2562.0</td>\n",
       "      <td>-931</td>\n",
       "      <td>NaN</td>\n",
       "      <td>Laborers</td>\n",
       "      <td>NaN</td>\n",
       "      <td>0.514163</td>\n",
       "      <td>0.661024</td>\n",
       "      <td>31-42</td>\n",
       "      <td>0.0</td>\n",
       "    </tr>\n",
       "    <tr>\n",
       "      <th>307510</th>\n",
       "      <td>456255</td>\n",
       "      <td>Cash loans</td>\n",
       "      <td>0</td>\n",
       "      <td>0</td>\n",
       "      <td>0</td>\n",
       "      <td>157500.0</td>\n",
       "      <td>675000.0</td>\n",
       "      <td>49117.5</td>\n",
       "      <td>675000.0</td>\n",
       "      <td>Unaccompanied</td>\n",
       "      <td>...</td>\n",
       "      <td>-1262</td>\n",
       "      <td>-5128.0</td>\n",
       "      <td>-410</td>\n",
       "      <td>NaN</td>\n",
       "      <td>Laborers</td>\n",
       "      <td>0.734460</td>\n",
       "      <td>0.708569</td>\n",
       "      <td>0.113922</td>\n",
       "      <td>42-53</td>\n",
       "      <td>0.0</td>\n",
       "    </tr>\n",
       "  </tbody>\n",
       "</table>\n",
       "<p>307511 rows × 26 columns</p>\n",
       "</div>"
      ],
      "text/plain": [
       "        SK_ID_CURR NAME_CONTRACT_TYPE  FLAG_OWN_CAR  FLAG_OWN_REALTY  \\\n",
       "0           100002         Cash loans             0                1   \n",
       "1           100003         Cash loans             0                0   \n",
       "2           100004    Revolving loans             1                1   \n",
       "3           100006         Cash loans             0                1   \n",
       "4           100007         Cash loans             0                1   \n",
       "...            ...                ...           ...              ...   \n",
       "307506      456251         Cash loans             0                0   \n",
       "307507      456252         Cash loans             0                1   \n",
       "307508      456253         Cash loans             0                1   \n",
       "307509      456254         Cash loans             0                1   \n",
       "307510      456255         Cash loans             0                0   \n",
       "\n",
       "        CNT_CHILDREN  AMT_INCOME_TOTAL  AMT_CREDIT  AMT_ANNUITY  \\\n",
       "0                  0          202500.0    406597.5      24700.5   \n",
       "1                  0          270000.0   1293502.5      35698.5   \n",
       "2                  0           67500.0    135000.0       6750.0   \n",
       "3                  0          135000.0    312682.5      29686.5   \n",
       "4                  0          121500.0    513000.0      21865.5   \n",
       "...              ...               ...         ...          ...   \n",
       "307506             0          157500.0    254700.0      27558.0   \n",
       "307507             0           72000.0    269550.0      12001.5   \n",
       "307508             0          153000.0    677664.0      29979.0   \n",
       "307509             0          171000.0    370107.0      20205.0   \n",
       "307510             0          157500.0    675000.0      49117.5   \n",
       "\n",
       "        AMT_GOODS_PRICE NAME_TYPE_SUITE  ... DAYS_EMPLOYED DAYS_REGISTRATION  \\\n",
       "0              351000.0   Unaccompanied  ...          -637           -3648.0   \n",
       "1             1129500.0          Family  ...         -1188           -1186.0   \n",
       "2              135000.0   Unaccompanied  ...          -225           -4260.0   \n",
       "3              297000.0   Unaccompanied  ...         -3039           -9833.0   \n",
       "4              513000.0   Unaccompanied  ...         -3038           -4311.0   \n",
       "...                 ...             ...  ...           ...               ...   \n",
       "307506         225000.0   Unaccompanied  ...          -236           -8456.0   \n",
       "307507         225000.0   Unaccompanied  ...        365243           -4388.0   \n",
       "307508         585000.0   Unaccompanied  ...         -7921           -6737.0   \n",
       "307509         319500.0   Unaccompanied  ...         -4786           -2562.0   \n",
       "307510         675000.0   Unaccompanied  ...         -1262           -5128.0   \n",
       "\n",
       "       DAYS_ID_PUBLISH OWN_CAR_AGE  OCCUPATION_TYPE  EXT_SOURCE_1  \\\n",
       "0                -2120         NaN         Laborers      0.083037   \n",
       "1                 -291         NaN       Core staff      0.311267   \n",
       "2                -2531        26.0         Laborers           NaN   \n",
       "3                -2437         NaN         Laborers           NaN   \n",
       "4                -3458         NaN       Core staff           NaN   \n",
       "...                ...         ...              ...           ...   \n",
       "307506           -1982         NaN      Sales staff      0.145570   \n",
       "307507           -4090         NaN              NaN           NaN   \n",
       "307508           -5150         NaN         Managers      0.744026   \n",
       "307509            -931         NaN         Laborers           NaN   \n",
       "307510            -410         NaN         Laborers      0.734460   \n",
       "\n",
       "        EXT_SOURCE_2  EXT_SOURCE_3  AGERANGE  CODE_GENDER_M  \n",
       "0           0.262949      0.139376     20-31            1.0  \n",
       "1           0.622246           NaN     42-53            0.0  \n",
       "2           0.555912      0.729567     42-53            1.0  \n",
       "3           0.650442           NaN     42-53            0.0  \n",
       "4           0.322738           NaN     53-64            1.0  \n",
       "...              ...           ...       ...            ...  \n",
       "307506      0.681632           NaN     20-31            1.0  \n",
       "307507      0.115992           NaN     53-64            0.0  \n",
       "307508      0.535722      0.218859     31-42            0.0  \n",
       "307509      0.514163      0.661024     31-42            0.0  \n",
       "307510      0.708569      0.113922     42-53            0.0  \n",
       "\n",
       "[307511 rows x 26 columns]"
      ]
     },
     "execution_count": 50,
     "metadata": {},
     "output_type": "execute_result"
    }
   ],
   "source": [
    "ap_train"
   ]
  },
  {
   "cell_type": "markdown",
   "metadata": {
    "id": "OSz2wNTzgK3w",
    "pycharm": {
     "name": "#%% md\n"
    }
   },
   "source": [
    "# **[#6] Wrap up: characteristics of the training dataset and how a ML model learns them**"
   ]
  },
  {
   "cell_type": "markdown",
   "metadata": {
    "id": "ACn06oB9h11f",
    "pycharm": {
     "name": "#%% md\n"
    }
   },
   "source": [
    "# **[#7] Dropping all our concerns**\n"
   ]
  },
  {
   "cell_type": "code",
   "execution_count": 51,
   "metadata": {
    "pycharm": {
     "name": "#%%\n"
    }
   },
   "outputs": [],
   "source": [
    "ap_train = pd.read_csv('application_train.csv',\n",
    "                    usecols =  ['TARGET', 'SK_ID_CURR', 'FLAG_OWN_CAR',\n",
    "                                'FLAG_OWN_REALTY', 'CNT_CHILDREN', 'AMT_INCOME_TOTAL', 'AMT_CREDIT', 'AMT_ANNUITY',\n",
    "                                'AMT_GOODS_PRICE', 'REGION_POPULATION_RELATIVE', 'DAYS_BIRTH',\n",
    "                                'DAYS_EMPLOYED', 'DAYS_REGISTRATION', 'DAYS_ID_PUBLISH', 'OWN_CAR_AGE', 'EXT_SOURCE_1',\n",
    "                                'EXT_SOURCE_2', 'EXT_SOURCE_3'])\n",
    "\n"
   ]
  },
  {
   "cell_type": "code",
   "execution_count": 52,
   "metadata": {
    "pycharm": {
     "name": "#%%\n"
    }
   },
   "outputs": [
    {
     "name": "stdout",
     "output_type": "stream",
     "text": [
      "Target dataset shape: (307511,)\n"
     ]
    }
   ],
   "source": [
    "ap_train_target = ap_train.pop('TARGET')\n",
    "print(f\"Target dataset shape: {ap_train_target.shape}\")"
   ]
  },
  {
   "cell_type": "code",
   "execution_count": 53,
   "metadata": {
    "pycharm": {
     "name": "#%%\n"
    }
   },
   "outputs": [],
   "source": [
    "ap_objects = list(ap_train.select_dtypes(include=['object']).columns)\n",
    "ap_train[ap_objects] = ap_train[ap_objects].astype('category')"
   ]
  },
  {
   "cell_type": "code",
   "execution_count": 54,
   "metadata": {
    "pycharm": {
     "name": "#%%\n"
    }
   },
   "outputs": [
    {
     "name": "stdout",
     "output_type": "stream",
     "text": [
      "Train dataset shape: (246008, 17)\n",
      "Test dataset shape: (61503, 17)\n"
     ]
    }
   ],
   "source": [
    "df_train, df_test, df_target_train, df_target_test = train_test_split(\n",
    "    ap_train, ap_train_target, test_size=0.2, stratify=ap_train_target, random_state=42)\n",
    "\n",
    "print(f\"Train dataset shape: {df_train.shape}\")\n",
    "print(f\"Test dataset shape: {df_test.shape}\")"
   ]
  },
  {
   "cell_type": "code",
   "execution_count": 55,
   "metadata": {
    "pycharm": {
     "name": "#%%\n"
    }
   },
   "outputs": [],
   "source": [
    "df_train_dmatrix = xgb.DMatrix(df_train.drop(columns='SK_ID_CURR'), df_target_train, enable_categorical=True)\n",
    "\n",
    "param = {'max_depth':6,\n",
    "         'eta':.2,\n",
    "         'subsample':.9,\n",
    "         'colsample_bytree':.9,\n",
    "         'scale_pos_weight':10,\n",
    "         'objective':'binary:logistic',\n",
    "         'tree_method':'exact'}\n",
    "xgb_base_model = xgb.train(param, df_train_dmatrix, num_boost_round=50)"
   ]
  },
  {
   "cell_type": "code",
   "execution_count": 56,
   "metadata": {
    "pycharm": {
     "name": "#%%\n"
    }
   },
   "outputs": [],
   "source": [
    "df_test_dmatrix = xgb.DMatrix(df_test.drop(columns='SK_ID_CURR'), enable_categorical=True)\n",
    "xgb_base_test_results = xgb_base_model.predict(df_test_dmatrix)"
   ]
  },
  {
   "cell_type": "code",
   "execution_count": 57,
   "metadata": {
    "pycharm": {
     "name": "#%%\n"
    }
   },
   "outputs": [
    {
     "data": {
      "text/plain": [
       "array([0.4161689 , 0.24968328, 0.6491341 , 0.3023825 , 0.45833546],\n",
       "      dtype=float32)"
      ]
     },
     "execution_count": 57,
     "metadata": {},
     "output_type": "execute_result"
    }
   ],
   "source": [
    "xgb_base_test_results[:5]"
   ]
  },
  {
   "cell_type": "markdown",
   "metadata": {
    "id": "dk4-mDBIjXkv",
    "pycharm": {
     "name": "#%% md\n"
    }
   },
   "source": [
    "# **[#8] A closer look at the performance without features of ethical concern**"
   ]
  },
  {
   "cell_type": "markdown",
   "metadata": {
    "id": "rsIgO85xlze4",
    "pycharm": {
     "name": "#%% md\n"
    }
   },
   "source": [
    "# **[#9] Wrapping up again: what happens by just removing the features of concern**"
   ]
  },
  {
   "cell_type": "markdown",
   "metadata": {
    "id": "ZELRCb1kmv7Q",
    "pycharm": {
     "name": "#%% md\n"
    }
   },
   "source": [
    "# **[#10] Hints at a possible (but questionable!) solution**"
   ]
  }
 ],
 "metadata": {
  "colab": {
   "collapsed_sections": [],
   "provenance": []
  },
  "kernelspec": {
   "display_name": "Python 3",
   "language": "python",
   "name": "python3"
  },
  "language_info": {
   "codemirror_mode": {
    "name": "ipython",
    "version": 3
   },
   "file_extension": ".py",
   "mimetype": "text/x-python",
   "name": "python",
   "nbconvert_exporter": "python",
   "pygments_lexer": "ipython3",
   "version": "3.8.8"
  }
 },
 "nbformat": 4,
 "nbformat_minor": 1
}
